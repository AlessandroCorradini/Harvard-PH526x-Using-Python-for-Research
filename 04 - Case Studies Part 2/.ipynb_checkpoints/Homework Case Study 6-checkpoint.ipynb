{
 "cells": [
  {
   "cell_type": "code",
   "execution_count": 20,
   "metadata": {
    "collapsed": true
   },
   "outputs": [],
   "source": [
    "from collections import Counter\n",
    "import networkx as nx\n",
    "import numpy as np"
   ]
  },
  {
   "cell_type": "markdown",
   "metadata": {},
   "source": [
    "Network homophily occurs when nodes that share an edge share a characteristic more often than nodes that do not share an edge. In this case study, we will investigate homophily of several characteristics of individuals connected in social networks in rural India."
   ]
  },
  {
   "cell_type": "markdown",
   "metadata": {},
   "source": [
    "# Exercise 1"
   ]
  },
  {
   "cell_type": "markdown",
   "metadata": {},
   "source": [
    "**Instructions**\n",
    "\n",
    "- ```individual_characteristics.dta``` contains several characteristics for each individual in the dataset such as age, religion, and caste. Use the pandas library to read in and store these characteristics as a dataframe called ```df```.\n",
    "- Store separate datasets for individuals belonging to Villages 1 and 2 as ```df1``` and ```df2```, respectively. (Note that some attributes may be missing for some individuals. Here, investigate only those pairs of nodes where the attributes are known for both nodes. This means that we're effectively assuming that the data are missing completely at random.)\n",
    "- Use the ```head``` method to display the first few entries of ```df1```.\n"
   ]
  },
  {
   "cell_type": "code",
   "execution_count": 1,
   "metadata": {},
   "outputs": [
    {
     "data": {
      "text/html": [
       "<div>\n",
       "<table border=\"1\" class=\"dataframe\">\n",
       "  <thead>\n",
       "    <tr style=\"text-align: right;\">\n",
       "      <th></th>\n",
       "      <th>village</th>\n",
       "      <th>adjmatrix_key</th>\n",
       "      <th>pid</th>\n",
       "      <th>hhid</th>\n",
       "      <th>resp_id</th>\n",
       "      <th>resp_gend</th>\n",
       "      <th>resp_status</th>\n",
       "      <th>age</th>\n",
       "      <th>religion</th>\n",
       "      <th>caste</th>\n",
       "      <th>...</th>\n",
       "      <th>privategovt</th>\n",
       "      <th>work_outside</th>\n",
       "      <th>work_outside_freq</th>\n",
       "      <th>shgparticipate</th>\n",
       "      <th>shg_no</th>\n",
       "      <th>savings</th>\n",
       "      <th>savings_no</th>\n",
       "      <th>electioncard</th>\n",
       "      <th>rationcard</th>\n",
       "      <th>rationcard_colour</th>\n",
       "    </tr>\n",
       "  </thead>\n",
       "  <tbody>\n",
       "    <tr>\n",
       "      <th>0</th>\n",
       "      <td>1</td>\n",
       "      <td>5</td>\n",
       "      <td>100201</td>\n",
       "      <td>1002</td>\n",
       "      <td>1</td>\n",
       "      <td>1</td>\n",
       "      <td>Head of Household</td>\n",
       "      <td>38</td>\n",
       "      <td>HINDUISM</td>\n",
       "      <td>OBC</td>\n",
       "      <td>...</td>\n",
       "      <td>PRIVATE BUSINESS</td>\n",
       "      <td>Yes</td>\n",
       "      <td>0</td>\n",
       "      <td>No</td>\n",
       "      <td>NaN</td>\n",
       "      <td>No</td>\n",
       "      <td>NaN</td>\n",
       "      <td>Yes</td>\n",
       "      <td>Yes</td>\n",
       "      <td>GREEN</td>\n",
       "    </tr>\n",
       "    <tr>\n",
       "      <th>1</th>\n",
       "      <td>1</td>\n",
       "      <td>6</td>\n",
       "      <td>100202</td>\n",
       "      <td>1002</td>\n",
       "      <td>2</td>\n",
       "      <td>2</td>\n",
       "      <td>Spouse of Head of Household</td>\n",
       "      <td>27</td>\n",
       "      <td>HINDUISM</td>\n",
       "      <td>OBC</td>\n",
       "      <td>...</td>\n",
       "      <td></td>\n",
       "      <td>NaN</td>\n",
       "      <td>NaN</td>\n",
       "      <td>No</td>\n",
       "      <td>NaN</td>\n",
       "      <td>No</td>\n",
       "      <td>NaN</td>\n",
       "      <td>Yes</td>\n",
       "      <td>Yes</td>\n",
       "      <td>GREEN</td>\n",
       "    </tr>\n",
       "    <tr>\n",
       "      <th>2</th>\n",
       "      <td>1</td>\n",
       "      <td>23</td>\n",
       "      <td>100601</td>\n",
       "      <td>1006</td>\n",
       "      <td>1</td>\n",
       "      <td>1</td>\n",
       "      <td>Head of Household</td>\n",
       "      <td>29</td>\n",
       "      <td>HINDUISM</td>\n",
       "      <td>OBC</td>\n",
       "      <td>...</td>\n",
       "      <td>OTHER LAND</td>\n",
       "      <td>No</td>\n",
       "      <td>NaN</td>\n",
       "      <td>No</td>\n",
       "      <td>NaN</td>\n",
       "      <td>No</td>\n",
       "      <td>NaN</td>\n",
       "      <td>Yes</td>\n",
       "      <td>Yes</td>\n",
       "      <td>GREEN</td>\n",
       "    </tr>\n",
       "    <tr>\n",
       "      <th>3</th>\n",
       "      <td>1</td>\n",
       "      <td>24</td>\n",
       "      <td>100602</td>\n",
       "      <td>1006</td>\n",
       "      <td>2</td>\n",
       "      <td>2</td>\n",
       "      <td>Spouse of Head of Household</td>\n",
       "      <td>24</td>\n",
       "      <td>HINDUISM</td>\n",
       "      <td>OBC</td>\n",
       "      <td>...</td>\n",
       "      <td>PRIVATE BUSINESS</td>\n",
       "      <td>No</td>\n",
       "      <td>NaN</td>\n",
       "      <td>Yes</td>\n",
       "      <td>1</td>\n",
       "      <td>Yes</td>\n",
       "      <td>1.0</td>\n",
       "      <td>Yes</td>\n",
       "      <td>No</td>\n",
       "      <td></td>\n",
       "    </tr>\n",
       "    <tr>\n",
       "      <th>4</th>\n",
       "      <td>1</td>\n",
       "      <td>27</td>\n",
       "      <td>100701</td>\n",
       "      <td>1007</td>\n",
       "      <td>1</td>\n",
       "      <td>1</td>\n",
       "      <td>Head of Household</td>\n",
       "      <td>58</td>\n",
       "      <td>HINDUISM</td>\n",
       "      <td>OBC</td>\n",
       "      <td>...</td>\n",
       "      <td>OTHER LAND</td>\n",
       "      <td>No</td>\n",
       "      <td>NaN</td>\n",
       "      <td>No</td>\n",
       "      <td>NaN</td>\n",
       "      <td>No</td>\n",
       "      <td>NaN</td>\n",
       "      <td>Yes</td>\n",
       "      <td>Yes</td>\n",
       "      <td>GREEN</td>\n",
       "    </tr>\n",
       "  </tbody>\n",
       "</table>\n",
       "<p>5 rows × 48 columns</p>\n",
       "</div>"
      ],
      "text/plain": [
       "   village  adjmatrix_key     pid  hhid  resp_id  resp_gend  \\\n",
       "0        1              5  100201  1002        1          1   \n",
       "1        1              6  100202  1002        2          2   \n",
       "2        1             23  100601  1006        1          1   \n",
       "3        1             24  100602  1006        2          2   \n",
       "4        1             27  100701  1007        1          1   \n",
       "\n",
       "                   resp_status  age  religion caste        ...         \\\n",
       "0            Head of Household   38  HINDUISM   OBC        ...          \n",
       "1  Spouse of Head of Household   27  HINDUISM   OBC        ...          \n",
       "2            Head of Household   29  HINDUISM   OBC        ...          \n",
       "3  Spouse of Head of Household   24  HINDUISM   OBC        ...          \n",
       "4            Head of Household   58  HINDUISM   OBC        ...          \n",
       "\n",
       "        privategovt work_outside work_outside_freq shgparticipate shg_no  \\\n",
       "0  PRIVATE BUSINESS          Yes                 0             No    NaN   \n",
       "1                            NaN               NaN             No    NaN   \n",
       "2        OTHER LAND           No               NaN             No    NaN   \n",
       "3  PRIVATE BUSINESS           No               NaN            Yes      1   \n",
       "4        OTHER LAND           No               NaN             No    NaN   \n",
       "\n",
       "  savings savings_no electioncard rationcard rationcard_colour  \n",
       "0      No        NaN          Yes        Yes             GREEN  \n",
       "1      No        NaN          Yes        Yes             GREEN  \n",
       "2      No        NaN          Yes        Yes             GREEN  \n",
       "3     Yes        1.0          Yes         No                    \n",
       "4      No        NaN          Yes        Yes             GREEN  \n",
       "\n",
       "[5 rows x 48 columns]"
      ]
     },
     "execution_count": 1,
     "metadata": {},
     "output_type": "execute_result"
    }
   ],
   "source": [
    "import pandas as pd\n",
    "df = pd.read_stata(\"https://s3.amazonaws.com/assets.datacamp.com/production/course_974/datasets/individual_characteristics.dta\")\n",
    "# Enter code here!\n",
    "df1 = df[(df['village']==1)]\n",
    "df2 = df[(df['village']==2)]\n",
    "df1.head()"
   ]
  },
  {
   "cell_type": "markdown",
   "metadata": {
    "collapsed": true
   },
   "source": [
    "# Exercise 2"
   ]
  },
  {
   "cell_type": "markdown",
   "metadata": {},
   "source": [
    "**Instructions**\n",
    "\n",
    "- In this dataset, each individual has a personal ID, or PID, stored in ```key_vilno_1.csv``` and ```key_vilno_2.csv``` for villages 1 and 2, respectively. ```data_filepath``` contains the base URL to the datasets used in this exercise. Use ```pd.read_csv``` to read in and store ```key_vilno_1.csv``` and ```key_vilno_2.csv``` as pid1 and pid2 respectively. The csv files have no headers, so make sure to include the parameter ```header = None```."
   ]
  },
  {
   "cell_type": "code",
   "execution_count": 2,
   "metadata": {
    "collapsed": true
   },
   "outputs": [],
   "source": [
    "pid1  = pd.read_csv('https://s3.amazonaws.com/assets.datacamp.com/production/course_974/datasets/key_vilno_1.csv', delimiter = ',', header = None)\n",
    "pid2  = pd.read_csv('https://s3.amazonaws.com/assets.datacamp.com/production/course_974/datasets/key_vilno_2.csv', delimiter = ',', header = None)"
   ]
  },
  {
   "cell_type": "code",
   "execution_count": 26,
   "metadata": {},
   "outputs": [
    {
     "data": {
      "text/html": [
       "<div>\n",
       "<table border=\"1\" class=\"dataframe\">\n",
       "  <thead>\n",
       "    <tr style=\"text-align: right;\">\n",
       "      <th></th>\n",
       "      <th>0</th>\n",
       "    </tr>\n",
       "  </thead>\n",
       "  <tbody>\n",
       "    <tr>\n",
       "      <th>838</th>\n",
       "      <td>118202</td>\n",
       "    </tr>\n",
       "    <tr>\n",
       "      <th>839</th>\n",
       "      <td>118301</td>\n",
       "    </tr>\n",
       "    <tr>\n",
       "      <th>840</th>\n",
       "      <td>118302</td>\n",
       "    </tr>\n",
       "    <tr>\n",
       "      <th>841</th>\n",
       "      <td>118303</td>\n",
       "    </tr>\n",
       "    <tr>\n",
       "      <th>842</th>\n",
       "      <td>118304</td>\n",
       "    </tr>\n",
       "  </tbody>\n",
       "</table>\n",
       "</div>"
      ],
      "text/plain": [
       "          0\n",
       "838  118202\n",
       "839  118301\n",
       "840  118302\n",
       "841  118303\n",
       "842  118304"
      ]
     },
     "execution_count": 26,
     "metadata": {},
     "output_type": "execute_result"
    }
   ],
   "source": [
    "pid1.tail()"
   ]
  },
  {
   "cell_type": "markdown",
   "metadata": {},
   "source": [
    "# Exercise 3"
   ]
  },
  {
   "cell_type": "markdown",
   "metadata": {},
   "source": [
    "**Instructions**\n",
    "\n",
    "- Define Python dictionaries with personal IDs as keys and a given covariate for that individual as values. Complete this for the sex, caste, and religion covariates, for Villages 1 and 2. Store these into variables named sex1, caste1, and religion1 for Village 1 and sex2, caste2, and religion2 for Village 2.\n"
   ]
  },
  {
   "cell_type": "code",
   "execution_count": 7,
   "metadata": {
    "collapsed": true
   },
   "outputs": [],
   "source": [
    "sex1      = dict(zip(df1.pid, df1.resp_gend))\n",
    "caste1    = dict(zip(df1.pid, df1.caste))\n",
    "religion1 = dict(zip(df1.pid, df1.religion))\n",
    "\n",
    "# Continue for df2 as well.\n",
    "sex2      = dict(zip(df2.pid, df2.resp_gend))\n",
    "caste2    = dict(zip(df2.pid, df2.caste))\n",
    "religion2 = dict(zip(df2.pid, df2.religion))"
   ]
  },
  {
   "cell_type": "code",
   "execution_count": 8,
   "metadata": {},
   "outputs": [
    {
     "data": {
      "text/plain": [
       "{100201: 1,\n",
       " 100202: 2,\n",
       " 100601: 1,\n",
       " 100602: 2,\n",
       " 100701: 1,\n",
       " 100702: 2,\n",
       " 100801: 1,\n",
       " 100802: 2,\n",
       " 100805: 2,\n",
       " 100806: 1,\n",
       " 100807: 1,\n",
       " 100808: 2,\n",
       " 101301: 2,\n",
       " 101302: 2,\n",
       " 101303: 2,\n",
       " 101601: 1,\n",
       " 101602: 2,\n",
       " 102001: 1,\n",
       " 102002: 2,\n",
       " 102004: 2,\n",
       " 102101: 1,\n",
       " 102102: 2,\n",
       " 102103: 1,\n",
       " 102104: 2,\n",
       " 102401: 1,\n",
       " 102402: 2,\n",
       " 102901: 1,\n",
       " 102902: 2,\n",
       " 103101: 1,\n",
       " 103102: 2,\n",
       " 103104: 2,\n",
       " 103105: 2,\n",
       " 103201: 1,\n",
       " 103202: 2,\n",
       " 103301: 1,\n",
       " 103302: 2,\n",
       " 103501: 1,\n",
       " 103502: 2,\n",
       " 103701: 1,\n",
       " 103702: 2,\n",
       " 104001: 1,\n",
       " 104002: 2,\n",
       " 104101: 1,\n",
       " 104102: 2,\n",
       " 104201: 1,\n",
       " 104202: 2,\n",
       " 104301: 1,\n",
       " 104302: 2,\n",
       " 104801: 1,\n",
       " 104802: 2,\n",
       " 104901: 1,\n",
       " 104902: 2,\n",
       " 105201: 1,\n",
       " 105301: 1,\n",
       " 105302: 2,\n",
       " 105303: 1,\n",
       " 105304: 2,\n",
       " 105401: 1,\n",
       " 105402: 2,\n",
       " 105404: 2,\n",
       " 105802: 2,\n",
       " 105901: 1,\n",
       " 105902: 2,\n",
       " 106201: 1,\n",
       " 106202: 2,\n",
       " 106204: 1,\n",
       " 106205: 2,\n",
       " 106501: 1,\n",
       " 106502: 1,\n",
       " 106503: 2,\n",
       " 106701: 1,\n",
       " 106702: 2,\n",
       " 106704: 2,\n",
       " 106801: 1,\n",
       " 106802: 2,\n",
       " 107101: 1,\n",
       " 107102: 2,\n",
       " 107301: 1,\n",
       " 107302: 2,\n",
       " 107303: 1,\n",
       " 107304: 2,\n",
       " 107307: 1,\n",
       " 107308: 2,\n",
       " 107401: 1,\n",
       " 107402: 2,\n",
       " 107802: 2,\n",
       " 107803: 2,\n",
       " 107805: 1,\n",
       " 107901: 1,\n",
       " 108101: 1,\n",
       " 108102: 2,\n",
       " 108104: 2,\n",
       " 108301: 1,\n",
       " 108302: 2,\n",
       " 108304: 2,\n",
       " 108801: 1,\n",
       " 108802: 2,\n",
       " 108803: 1,\n",
       " 108804: 2,\n",
       " 108901: 1,\n",
       " 108902: 2,\n",
       " 108905: 1,\n",
       " 108906: 2,\n",
       " 109201: 1,\n",
       " 109202: 2,\n",
       " 109401: 1,\n",
       " 109402: 2,\n",
       " 109501: 1,\n",
       " 109502: 2,\n",
       " 109505: 1,\n",
       " 109506: 2,\n",
       " 109701: 1,\n",
       " 109702: 2,\n",
       " 109901: 1,\n",
       " 109902: 2,\n",
       " 110301: 1,\n",
       " 110302: 2,\n",
       " 110501: 1,\n",
       " 110502: 2,\n",
       " 110601: 1,\n",
       " 110602: 2,\n",
       " 111201: 2,\n",
       " 111203: 2,\n",
       " 111204: 2,\n",
       " 111205: 1,\n",
       " 111501: 1,\n",
       " 111502: 2,\n",
       " 111901: 1,\n",
       " 111902: 2,\n",
       " 111903: 1,\n",
       " 111904: 2,\n",
       " 112201: 1,\n",
       " 112202: 2,\n",
       " 112601: 1,\n",
       " 112603: 2,\n",
       " 112604: 2,\n",
       " 112605: 1,\n",
       " 112801: 1,\n",
       " 112802: 2,\n",
       " 113301: 1,\n",
       " 113302: 2,\n",
       " 113401: 2,\n",
       " 113601: 1,\n",
       " 113602: 2,\n",
       " 113901: 1,\n",
       " 113902: 2,\n",
       " 114001: 1,\n",
       " 114002: 2,\n",
       " 114301: 2,\n",
       " 114302: 1,\n",
       " 114303: 2,\n",
       " 114601: 1,\n",
       " 114602: 2,\n",
       " 114701: 1,\n",
       " 114702: 2,\n",
       " 114703: 2,\n",
       " 114801: 1,\n",
       " 114802: 2,\n",
       " 115201: 1,\n",
       " 115202: 2,\n",
       " 115501: 1,\n",
       " 115502: 2,\n",
       " 115503: 1,\n",
       " 115504: 2,\n",
       " 115601: 1,\n",
       " 115801: 1,\n",
       " 115802: 1,\n",
       " 115803: 2,\n",
       " 115807: 1,\n",
       " 115808: 2,\n",
       " 115809: 2,\n",
       " 116201: 2,\n",
       " 116202: 1,\n",
       " 116203: 2,\n",
       " 116206: 1,\n",
       " 116207: 2,\n",
       " 116301: 1,\n",
       " 116302: 2,\n",
       " 116303: 1,\n",
       " 116304: 2,\n",
       " 116307: 1,\n",
       " 116308: 2,\n",
       " 116310: 1,\n",
       " 116311: 2,\n",
       " 116401: 1,\n",
       " 116402: 2,\n",
       " 116501: 1,\n",
       " 116502: 2,\n",
       " 116601: 1,\n",
       " 116602: 2,\n",
       " 116901: 1,\n",
       " 116902: 2,\n",
       " 116905: 2,\n",
       " 117101: 1,\n",
       " 117102: 2,\n",
       " 117103: 2,\n",
       " 117105: 1,\n",
       " 117201: 1,\n",
       " 117202: 2,\n",
       " 117203: 2,\n",
       " 117301: 1,\n",
       " 117403: 2,\n",
       " 117404: 1}"
      ]
     },
     "execution_count": 8,
     "metadata": {},
     "output_type": "execute_result"
    }
   ],
   "source": [
    "sex1"
   ]
  },
  {
   "cell_type": "markdown",
   "metadata": {},
   "source": [
    "# Exercise 4"
   ]
  },
  {
   "cell_type": "markdown",
   "metadata": {},
   "source": [
    "**Instructions**\n",
    "\n",
    "- Let's consider how much homophily exists in these networks. For a given characteristic, our measure of homophily will be the proportion of edges in the network whose constituent nodes share that characteristic. How much homophily do we expect by chance? If characteristics are distributed completely randomly, the probability that two nodes x and y share characteristic a is the probability both nodes have characteristic a, which is the frequency of a squared. The total probability that nodes x and y share their characteristic is therefore the sum of the frequency of each characteristic in the network. For example, in the dictionary favorite_colors provided, the frequency of red and blue is 1/3 and 2/3 respectively, so the chance homophily is (1/3)^2+(2/3)^2 = 5/9. Create a function ```chance_homophily(chars)``` that takes a dictionary with personal IDs as keys and characteristics as values, and computes the chance homophily for that characteristic.\n",
    "- A sample of three peoples' favorite colors is given in ```favorite_colors```. Use your function to compute the chance homophily in this group, and store as ```color_homophily```.\n",
    "- Print ```color_homophily```."
   ]
  },
  {
   "cell_type": "code",
   "execution_count": 10,
   "metadata": {},
   "outputs": [
    {
     "name": "stdout",
     "output_type": "stream",
     "text": [
      "0.555555555556\n"
     ]
    }
   ],
   "source": [
    "\n",
    "def chance_homophily(chars):\n",
    "    # Enter code here!\n",
    "    chars_counts_dict = Counter(chars.values())\n",
    "    chars_counts = np.array(list(chars_counts_dict.values()))\n",
    "    chars_props  = chars_counts / sum(chars_counts)\n",
    "    return sum(chars_props**2)\n",
    "\n",
    "favorite_colors = {\n",
    "    \"ankit\":  \"red\",\n",
    "    \"xiaoyu\": \"blue\",\n",
    "    \"mary\":   \"blue\"\n",
    "}\n",
    "\n",
    "color_homophily = chance_homophily(favorite_colors)\n",
    "print(color_homophily)"
   ]
  },
  {
   "cell_type": "markdown",
   "metadata": {},
   "source": [
    "# Exercise 5"
   ]
  },
  {
   "cell_type": "markdown",
   "metadata": {},
   "source": [
    "**Instructions**\n",
    "\n",
    "- ```sex1, caste1, religion1, sex2, caste2,``` and ```religion2 ```are already defined from previous exercises. Use ```chance_homophily``` to compute the chance homophily for sex, caste, and religion In Villages 1 and 2. Is the chance homophily for any attribute very high for either village?"
   ]
  },
  {
   "cell_type": "code",
   "execution_count": 12,
   "metadata": {},
   "outputs": [
    {
     "name": "stdout",
     "output_type": "stream",
     "text": [
      "Village 1 chance of same sex: 0.502729986168\n",
      "Village 1 chance of same castel: 0.674148850979\n",
      "Village 1 chance of same religion: 0.980489698852\n",
      "Village 2 chance of same sex: 0.500594530321\n",
      "Village 2 chance of same castle: 0.425368244801\n",
      "Village 2 chance of same relegion: 1.0\n"
     ]
    }
   ],
   "source": [
    "# Enter your code here.\n",
    "#village 1\n",
    "print(\"Village 1 chance of same sex:\", chance_homophily(sex1))\n",
    "print(\"Village 1 chance of same castel:\", chance_homophily(caste1))\n",
    "print(\"Village 1 chance of same religion:\", chance_homophily(religion1))\n",
    "#village 2\n",
    "print(\"Village 2 chance of same sex:\", chance_homophily(sex2))\n",
    "print(\"Village 2 chance of same castle:\", chance_homophily(caste2))\n",
    "print(\"Village 2 chance of same relegion:\", chance_homophily(religion2))"
   ]
  },
  {
   "cell_type": "markdown",
   "metadata": {},
   "source": [
    "# Exercise 6"
   ]
  },
  {
   "cell_type": "markdown",
   "metadata": {},
   "source": [
    "**Instructions**\n",
    "\n",
    "- Now let's compute the observed homophily in our network. Recall that our measure of homophily is the proportion of edges whose nodes share a characteristic. ```homophily(G, chars, IDs)``` takes a network ```G```, a dictionary of characteristics chars, and node IDs IDs. For each node pair, determine whether a tie exists between them, as well as whether they share a characteristic. The total count of these is ```num_same_ties``` and ```num_ties``` respectively, and their ratio is the homophily of chars in G. Complete the function by choosing where to increment ```num_same_ties``` and ```num_ties```."
   ]
  },
  {
   "cell_type": "code",
   "execution_count": 15,
   "metadata": {
    "collapsed": true
   },
   "outputs": [],
   "source": [
    "def homophily(G, chars, IDs):\n",
    "    \"\"\"\n",
    "    Given a network G, a dict of characteristics chars for node IDs,\n",
    "    and dict of node IDs for each node in the network,\n",
    "    find the homophily of the network.\n",
    "    \"\"\"\n",
    "    num_same_ties, num_ties = 0, 0\n",
    "    for n1 in G.nodes():\n",
    "        for n2 in G.nodes():\n",
    "            if n1 > n2:   # do not double-count edges!\n",
    "                if IDs[n1] in chars and IDs[n2] in chars:\n",
    "                    if G.has_edge(n1, n2):\n",
    "                        # Should `num_ties` be incremented?  What about `num_same_ties`?\n",
    "                        num_ties += 1\n",
    "                        num_same_ties = 0\n",
    "                        if chars[IDs[n1]] == chars[IDs[n2]]:\n",
    "                            # Should `num_ties` be incremented?  What about `num_same_ties`?\n",
    "                            num_same_ties += 1\n",
    "                            num_ties = 0\n",
    "    return (num_same_ties / num_ties)"
   ]
  },
  {
   "cell_type": "markdown",
   "metadata": {},
   "source": [
    "# Exercise 7"
   ]
  },
  {
   "cell_type": "markdown",
   "metadata": {},
   "source": [
    "**Instructions**\n",
    "\n",
    "- The networks for Villages 1 and 2 have been stored as networkx graph objects ```G1``` and ```G2```. Use your ```homophily``` function to compute the observed homophily for sex, caste, and religion in Villages 1 and 2.\n",
    "- Print all six values. Are these values higher or lower than that expected by chance?"
   ]
  },
  {
   "cell_type": "code",
   "execution_count": null,
   "metadata": {
    "collapsed": true
   },
   "outputs": [],
   "source": [
    "print(\"Village 1 observed proportion of same sex:\", homophily(G1, sex1, pid1))\n",
    "print(\"Village 1 observed proportion of same caste:\", homophily(G1, caste1, pid1))\n",
    "print(\"Village 1 observed proportion of same relegion:\", homophily(G1, religion1, pid1))\n",
    "\n",
    "print(\"Village 2 observed proportion of same sex:\", homophily(G2, sex2, pid2))\n",
    "print(\"Village 2 observed proportion of same caste:\", homophily(G2, caste2, pid2))\n",
    "print(\"Village 2 observed proportion of same religion:\", homophily(G2, religion2 , pid2))"
   ]
  },
  {
   "cell_type": "markdown",
   "metadata": {
    "collapsed": true
   },
   "source": [
    "\n",
    "    Village 1 observed proportion of same sex: 0.5879345603271984\n",
    "    Village 1 observed proportion of same caste: 0.7944785276073619\n",
    "    Village 1 observed proportion of same relegion: 0.99079754601227\n",
    "    Village 2 observed proportion of same sex: 0.5622435020519836\n",
    "    Village 2 observed proportion of same caste: 0.826265389876881\n",
    "    Village 2 observed proportion of same religion: 1.0"
   ]
  }
 ],
 "metadata": {
  "anaconda-cloud": {},
  "kernelspec": {
   "display_name": "Python 3",
   "language": "python",
   "name": "python3"
  },
  "language_info": {
   "codemirror_mode": {
    "name": "ipython",
    "version": 3
   },
   "file_extension": ".py",
   "mimetype": "text/x-python",
   "name": "python",
   "nbconvert_exporter": "python",
   "pygments_lexer": "ipython3",
   "version": "3.7.1"
  }
 },
 "nbformat": 4,
 "nbformat_minor": 1
}
