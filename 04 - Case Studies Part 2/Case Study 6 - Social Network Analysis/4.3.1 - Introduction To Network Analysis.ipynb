{
 "cells": [
  {
   "cell_type": "markdown",
   "metadata": {
    "collapsed": true
   },
   "source": [
    "#### Introduction to Network Analysis: Question 1\n",
    "\n",
    "What is a path in a network?\n",
    "\n",
    "- An edge\n",
    "- A generalized edge that connects distant nodes\n",
    "- **A sequence of edges connecting two nodes**\n",
    "\n",
    "#### Introduction to Network Analysis: Question 2\n",
    "\n",
    "What is a connected component in a network?\n",
    "\n",
    "- **A group of nodes and their edges for which a path exists between each node in the component**\n",
    "- Any subgroup of nodes\n",
    "- The set of either nodes or edges in the network"
   ]
  },
  {
   "cell_type": "code",
   "execution_count": null,
   "metadata": {},
   "outputs": [],
   "source": []
  }
 ],
 "metadata": {
  "anaconda-cloud": {},
  "kernelspec": {
   "display_name": "Python 3",
   "language": "python",
   "name": "python3"
  },
  "language_info": {
   "codemirror_mode": {
    "name": "ipython",
    "version": 3
   },
   "file_extension": ".py",
   "mimetype": "text/x-python",
   "name": "python",
   "nbconvert_exporter": "python",
   "pygments_lexer": "ipython3",
   "version": "3.7.1"
  }
 },
 "nbformat": 4,
 "nbformat_minor": 1
}
