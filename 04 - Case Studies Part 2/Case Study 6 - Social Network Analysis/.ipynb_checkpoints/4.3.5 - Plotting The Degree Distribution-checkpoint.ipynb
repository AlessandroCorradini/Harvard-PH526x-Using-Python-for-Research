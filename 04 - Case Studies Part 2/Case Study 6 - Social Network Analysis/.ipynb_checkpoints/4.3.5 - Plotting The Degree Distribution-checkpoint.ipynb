{
 "cells": [
  {
   "cell_type": "code",
   "execution_count": 8,
   "metadata": {
    "collapsed": true
   },
   "outputs": [],
   "source": [
    "from scipy.stats import bernoulli\n",
    "import networkx as nx\n",
    "import matplotlib.pyplot as plt"
   ]
  },
  {
   "cell_type": "code",
   "execution_count": 9,
   "metadata": {
    "collapsed": true
   },
   "outputs": [],
   "source": [
    "def er_graph(N,p):\n",
    "    '''\n",
    "    Generate an ER graph\n",
    "    '''\n",
    "    G = nx.Graph()\n",
    "    #add all nodes in the graph\n",
    "    G.add_nodes_from(range(N))\n",
    "    #loop over all pairs of nodes\n",
    "    for node1 in G.nodes():\n",
    "        for node2 in G.nodes():\n",
    "            if node1 < node2 and bernoulli.rvs(p=p):\n",
    "                \n",
    "                #add an edge with prob p\n",
    "                G.add_edge(node1, node2)\n",
    "    return G"
   ]
  },
  {
   "cell_type": "code",
   "execution_count": 22,
   "metadata": {},
   "outputs": [],
   "source": [
    "G = er_graph(50,0.08)"
   ]
  },
  {
   "cell_type": "code",
   "execution_count": 23,
   "metadata": {},
   "outputs": [
    {
     "data": {
      "text/plain": [
       "50"
      ]
     },
     "execution_count": 23,
     "metadata": {},
     "output_type": "execute_result"
    }
   ],
   "source": [
    "G.number_of_nodes()"
   ]
  },
  {
   "cell_type": "code",
   "execution_count": 24,
   "metadata": {},
   "outputs": [
    {
     "data": {
      "text/plain": [
       "100"
      ]
     },
     "execution_count": 24,
     "metadata": {},
     "output_type": "execute_result"
    }
   ],
   "source": [
    "G.number_of_edges()"
   ]
  },
  {
   "cell_type": "code",
   "execution_count": 25,
   "metadata": {},
   "outputs": [
    {
     "data": {
      "text/plain": [
       "{0: 4,\n",
       " 1: 4,\n",
       " 2: 1,\n",
       " 3: 1,\n",
       " 4: 4,\n",
       " 5: 2,\n",
       " 6: 8,\n",
       " 7: 3,\n",
       " 8: 3,\n",
       " 9: 7,\n",
       " 10: 4,\n",
       " 11: 2,\n",
       " 12: 4,\n",
       " 13: 4,\n",
       " 14: 3,\n",
       " 15: 4,\n",
       " 16: 8,\n",
       " 17: 3,\n",
       " 18: 4,\n",
       " 19: 3,\n",
       " 20: 1,\n",
       " 21: 5,\n",
       " 22: 3,\n",
       " 23: 5,\n",
       " 24: 0,\n",
       " 25: 3,\n",
       " 26: 5,\n",
       " 27: 6,\n",
       " 28: 4,\n",
       " 29: 5,\n",
       " 30: 5,\n",
       " 31: 6,\n",
       " 32: 4,\n",
       " 33: 2,\n",
       " 34: 2,\n",
       " 35: 5,\n",
       " 36: 3,\n",
       " 37: 4,\n",
       " 38: 6,\n",
       " 39: 10,\n",
       " 40: 6,\n",
       " 41: 6,\n",
       " 42: 3,\n",
       " 43: 3,\n",
       " 44: 4,\n",
       " 45: 7,\n",
       " 46: 0,\n",
       " 47: 6,\n",
       " 48: 2,\n",
       " 49: 3}"
      ]
     },
     "execution_count": 25,
     "metadata": {},
     "output_type": "execute_result"
    }
   ],
   "source": [
    "G.degree()"
   ]
  },
  {
   "cell_type": "code",
   "execution_count": 26,
   "metadata": {},
   "outputs": [
    {
     "data": {
      "text/plain": [
       "dict_values([4, 4, 1, 1, 4, 2, 8, 3, 3, 7, 4, 2, 4, 4, 3, 4, 8, 3, 4, 3, 1, 5, 3, 5, 0, 3, 5, 6, 4, 5, 5, 6, 4, 2, 2, 5, 3, 4, 6, 10, 6, 6, 3, 3, 4, 7, 0, 6, 2, 3])"
      ]
     },
     "execution_count": 26,
     "metadata": {},
     "output_type": "execute_result"
    }
   ],
   "source": [
    "G.degree().values()"
   ]
  },
  {
   "cell_type": "code",
   "execution_count": 53,
   "metadata": {
    "collapsed": true
   },
   "outputs": [],
   "source": [
    "def plot_degree_distribution(G):\n",
    "    '''\n",
    "    Plot the distribution of a network\n",
    "    '''\n",
    "    plt.hist(list(G.degree().values()), histtype = 'step')\n",
    "    plt.xlabel = ('Degree K')\n",
    "    plt.ylabel = ('p(k)')\n",
    "    plt.title('Degree Distribution')"
   ]
  },
  {
   "cell_type": "code",
   "execution_count": 39,
   "metadata": {},
   "outputs": [
    {
     "data": {
      "image/png": "[encoded data removed]",
      "text/plain": [
       "<matplotlib.figure.Figure at 0xdead9b1320>"
      ]
     },
     "metadata": {},
     "output_type": "display_data"
    }
   ],
   "source": [
    "plot_degree_distribution(G)\n",
    "plt.show()"
   ]
  },
  {
   "cell_type": "code",
   "execution_count": 40,
   "metadata": {},
   "outputs": [
    {
     "data": {
      "image/png": "[encoded data removed]",
      "text/plain": [
       "<matplotlib.figure.Figure at 0xdeac6fa710>"
      ]
     },
     "metadata": {},
     "output_type": "display_data"
    }
   ],
   "source": [
    "G = er_graph(500,0.08)\n",
    "plot_degree_distribution(G)\n",
    "plt.show()"
   ]
  },
  {
   "cell_type": "code",
   "execution_count": 42,
   "metadata": {},
   "outputs": [
    {
     "data": {
      "image/png": "[encoded data removed]",
      "text/plain": [
       "<matplotlib.figure.Figure at 0xdead96f978>"
      ]
     },
     "metadata": {},
     "output_type": "display_data"
    }
   ],
   "source": [
    "G1 = er_graph(500,0.08)\n",
    "plot_degree_distribution(G1)\n",
    "G2 = er_graph(500,0.08)\n",
    "plot_degree_distribution(G2)\n",
    "G3 = er_graph(500,0.08)\n",
    "plot_degree_distribution(G3)\n",
    "plt.show()"
   ]
  },
  {
   "cell_type": "markdown",
   "metadata": {},
   "source": [
    "Consider the following code:\n",
    "\n",
    "D = {1:1, 2:2, 3:3}\n",
    "plt.hist(D)\n",
    "\n",
    "What will this plot?"
   ]
  },
  {
   "cell_type": "code",
   "execution_count": 47,
   "metadata": {},
   "outputs": [
    {
     "data": {
      "image/png": "[encoded data removed]",
      "text/plain": [
       "<matplotlib.figure.Figure at 0xdead9381d0>"
      ]
     },
     "metadata": {},
     "output_type": "display_data"
    }
   ],
   "source": [
    "D = {1:1, 2:2, 3:3}\n",
    "plt.hist(list(D.values()))\n",
    "plt.show()"
   ]
  },
  {
   "cell_type": "markdown",
   "metadata": {},
   "source": [
    "How do the degree distributions in nx.erdos_renyi_graph(100, 0.03) and nx.erdos_renyi_graph(100, 0.30) compare?"
   ]
  },
  {
   "cell_type": "code",
   "execution_count": 52,
   "metadata": {},
   "outputs": [
    {
     "data": {
      "image/png": "[encoded data removed]",
      "text/plain": [
       "<matplotlib.figure.Figure at 0xdeaec47400>"
      ]
     },
     "metadata": {},
     "output_type": "display_data"
    }
   ],
   "source": [
    "plot_degree_distribution(nx.erdos_renyi_graph(100, 0.03))\n",
    "plot_degree_distribution(nx.erdos_renyi_graph(100, 0.30))\n",
    "plt.show()"
   ]
  },
  {
   "cell_type": "markdown",
   "metadata": {
    "collapsed": true
   },
   "source": [
    "#### Plotting the Degree Distribution: Question 1\n",
    "\n",
    "Consider the following code:\n",
    "    \n",
    "```\n",
    "D = {1:1, 2:2, 3:3} \n",
    "plt.hist(D)\n",
    "```\n",
    "\n",
    "What will this plot?\n",
    "\n",
    "- A flat histogram with bins at 1, 2, and 3.\n",
    "- A histogram with with bins of increasing height at 1, 2, and 3.\n",
    "- **This code contains an error.**\n",
    "\n",
    "#### Plotting the Degree Distribution: Question 2\n",
    "\n",
    "How do the degree distributions in ```nx.erdos_renyi_graph(100, 0.03)``` and ```nx.erdos_renyi_graph(100, 0.30)``` compare?\n",
    "\n",
    "- **The latter distribution has a greater mean on average.**\n",
    "- The former distribution has a greater mean on average.\n",
    "- The means are approximately the same."
   ]
  },
  {
   "cell_type": "code",
   "execution_count": null,
   "metadata": {},
   "outputs": [],
   "source": []
  }
 ],
 "metadata": {
  "anaconda-cloud": {},
  "kernelspec": {
   "display_name": "Python 3",
   "language": "python",
   "name": "python3"
  },
  "language_info": {
   "codemirror_mode": {
    "name": "ipython",
    "version": 3
   },
   "file_extension": ".py",
   "mimetype": "text/x-python",
   "name": "python",
   "nbconvert_exporter": "python",
   "pygments_lexer": "ipython3",
   "version": "3.7.1"
  }
 },
 "nbformat": 4,
 "nbformat_minor": 1
}
