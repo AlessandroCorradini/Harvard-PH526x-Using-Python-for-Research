{
 "cells": [
  {
   "cell_type": "code",
   "execution_count": 1,
   "metadata": {
    "collapsed": true
   },
   "outputs": [],
   "source": [
    "from scipy.stats import bernoulli\n",
    "import networkx as nx\n",
    "import matplotlib.pyplot as plt\n",
    "import numpy as np"
   ]
  },
  {
   "cell_type": "code",
   "execution_count": 18,
   "metadata": {
    "collapsed": true
   },
   "outputs": [],
   "source": [
    "def plot_degree_distribution(G):\n",
    "    '''\n",
    "    Plot the distribution of a network\n",
    "\n",
    "    '''\n",
    "    plt.hist(list(G.degree().values()), histtype = 'step')\n",
    "    plt.xlabel = ('Degree $K$')\n",
    "    plt.ylabel = ('$p(k)$')\n",
    "    plt.title('Degree Distribution')"
   ]
  },
  {
   "cell_type": "code",
   "execution_count": 19,
   "metadata": {
    "collapsed": true
   },
   "outputs": [],
   "source": [
    "A1 = np.loadtxt('networks_info/adj_allVillageRelationships_vilno_1.csv', delimiter = ',')\n",
    "A2 = np.loadtxt('networks_info/adj_allVillageRelationships_vilno_2.csv', delimiter = ',')"
   ]
  },
  {
   "cell_type": "code",
   "execution_count": 20,
   "metadata": {
    "collapsed": true
   },
   "outputs": [],
   "source": [
    "G1 = nx.to_networkx_graph(A1)\n",
    "G2 = nx.to_networkx_graph(A2)"
   ]
  },
  {
   "cell_type": "code",
   "execution_count": 21,
   "metadata": {},
   "outputs": [],
   "source": [
    "# To get the basic scene of a network size and number of connections, \n",
    "# count the the number of nodes and the number of edges in the netwoerks\n",
    "\n",
    "def basic_net_stats(G):\n",
    "    '''\n",
    "    Count the the number of nodes and the number of edges of a network\n",
    "    Give the average\n",
    "    '''\n",
    "    print('Number of nodes is: %d' % G.number_of_nodes())\n",
    "    print('Number of edfes is: %d' % G.number_of_edges())\n",
    "    print('Average Degree is: %f' %np.mean(list(G.degree().values())))"
   ]
  },
  {
   "cell_type": "code",
   "execution_count": 22,
   "metadata": {},
   "outputs": [
    {
     "name": "stdout",
     "output_type": "stream",
     "text": [
      "Number of nodes is: 843\n",
      "Number of edfes is: 3405\n",
      "Average Degree is: 8.078292\n"
     ]
    }
   ],
   "source": [
    "basic_net_stats(G1)"
   ]
  },
  {
   "cell_type": "code",
   "execution_count": 23,
   "metadata": {},
   "outputs": [
    {
     "name": "stdout",
     "output_type": "stream",
     "text": [
      "Number of nodes is: 877\n",
      "Number of edfes is: 3063\n",
      "Average Degree is: 6.985177\n"
     ]
    }
   ],
   "source": [
    "basic_net_stats(G2)"
   ]
  },
  {
   "cell_type": "code",
   "execution_count": 25,
   "metadata": {},
   "outputs": [
    {
     "data": {
      "image/png": "[encoded data removed]",
      "text/plain": [
       "<matplotlib.figure.Figure at 0x49c4ef4128>"
      ]
     },
     "metadata": {},
     "output_type": "display_data"
    }
   ],
   "source": [
    "plot_degree_distribution(G1)\n",
    "plot_degree_distribution(G2)\n",
    "plt.savefig('networks_info/villages_hist.pdf')\n",
    "plt.show()"
   ]
  },
  {
   "cell_type": "markdown",
   "metadata": {},
   "source": [
    "#### Descriptive Statistics: Question 1\n",
    "\n",
    "As described in Video 4.3.6, which network has more nodes?\n",
    "\n",
    "- G1\n",
    "- **G2**\n",
    "\n",
    "#### Descriptive Statistics: Question 2\n",
    "\n",
    "As described in Video 4.3.6, which network has more edges?\n",
    "\n",
    "- **G1**\n",
    "- G2"
   ]
  },
  {
   "cell_type": "code",
   "execution_count": null,
   "metadata": {},
   "outputs": [],
   "source": []
  }
 ],
 "metadata": {
  "anaconda-cloud": {},
  "kernelspec": {
   "display_name": "Python 3",
   "language": "python",
   "name": "python3"
  },
  "language_info": {
   "codemirror_mode": {
    "name": "ipython",
    "version": 3
   },
   "file_extension": ".py",
   "mimetype": "text/x-python",
   "name": "python",
   "nbconvert_exporter": "python",
   "pygments_lexer": "ipython3",
   "version": "3.7.1"
  }
 },
 "nbformat": 4,
 "nbformat_minor": 1
}
