{
 "cells": [
  {
   "cell_type": "code",
   "execution_count": 2,
   "metadata": {
    "collapsed": true
   },
   "outputs": [],
   "source": [
    "import numpy as np\n",
    "import scipy.stats as ss\n",
    "import matplotlib.pyplot as plt"
   ]
  },
  {
   "cell_type": "code",
   "execution_count": 3,
   "metadata": {},
   "outputs": [
    {
     "data": {
      "text/plain": [
       "array([[-0.53334207,  2.56369927],\n",
       "       [ 0.05524591, -0.79678023],\n",
       "       [ 0.61765638, -0.66607725],\n",
       "       [-0.13290267, -1.3750427 ],\n",
       "       [ 0.30329221,  0.37103017]])"
      ]
     },
     "execution_count": 3,
     "metadata": {},
     "output_type": "execute_result"
    }
   ],
   "source": [
    "ss.norm(0,1).rvs((5,2))"
   ]
  },
  {
   "cell_type": "code",
   "execution_count": 4,
   "metadata": {},
   "outputs": [
    {
     "data": {
      "text/plain": [
       "array([[ 0.98820657,  0.87507459],\n",
       "       [ 2.32122367,  0.82107683],\n",
       "       [-0.62926773,  0.54523464],\n",
       "       [ 1.83502205, -0.51945128],\n",
       "       [ 0.92851873,  0.25591393]])"
      ]
     },
     "execution_count": 4,
     "metadata": {},
     "output_type": "execute_result"
    }
   ],
   "source": [
    "ss.norm(1,1).rvs((5,2))"
   ]
  },
  {
   "cell_type": "code",
   "execution_count": 5,
   "metadata": {},
   "outputs": [
    {
     "data": {
      "text/plain": [
       "array([[-0.57675704, -0.3859371 ],\n",
       "       [ 0.70651841, -0.37209224],\n",
       "       [ 1.43790752, -0.57904165],\n",
       "       [-0.41022759,  0.94229974],\n",
       "       [-0.82089195, -0.01175816],\n",
       "       [ 1.25717907,  0.15327058],\n",
       "       [ 1.2742793 ,  1.22385104],\n",
       "       [ 2.10761125,  2.05767187],\n",
       "       [ 2.77136027,  0.61205962],\n",
       "       [-0.14784762,  0.23308276]])"
      ]
     },
     "execution_count": 5,
     "metadata": {},
     "output_type": "execute_result"
    }
   ],
   "source": [
    "a = ss.norm(0,1).rvs((5,2))\n",
    "b = ss.norm(1,1).rvs((5,2))\n",
    "np.concatenate((ss.norm(0,1).rvs((5,2)),ss.norm(1,1).rvs((5,2))),axis = 0)"
   ]
  },
  {
   "cell_type": "code",
   "execution_count": 6,
   "metadata": {},
   "outputs": [
    {
     "data": {
      "text/plain": [
       "array([0, 0, 0, 0, 0, 1, 1, 1, 1, 1])"
      ]
     },
     "execution_count": 6,
     "metadata": {},
     "output_type": "execute_result"
    }
   ],
   "source": [
    "n = 5\n",
    "a = np.repeat(0,n)\n",
    "b = np.repeat(1, n)\n",
    "np.concatenate((np.repeat(0,n),np.repeat(1,n)))"
   ]
  },
  {
   "cell_type": "code",
   "execution_count": 7,
   "metadata": {
    "collapsed": true
   },
   "outputs": [],
   "source": [
    "def generate_syth_data(n = 50):\n",
    "    '''\n",
    "    Create two sets of points from bivariate normal distribution.\n",
    "    '''\n",
    "    points = np.concatenate((ss.norm(0,1).rvs((n,2)),ss.norm(1,1).rvs((n,2))),axis = 0)\n",
    "    outcomes = np.concatenate((np.repeat(0,n),np.repeat(1,n)))\n",
    "    return (points, outcomes)"
   ]
  },
  {
   "cell_type": "code",
   "execution_count": 12,
   "metadata": {
    "collapsed": true
   },
   "outputs": [],
   "source": [
    "n = 20\n",
    "(points, outcomes) =  generate_syth_data(n)"
   ]
  },
  {
   "cell_type": "code",
   "execution_count": 14,
   "metadata": {},
   "outputs": [
    {
     "data": {
      "image/png": "[encoded data removed]",
      "text/plain": [
       "<matplotlib.figure.Figure at 0x3f62a782e8>"
      ]
     },
     "metadata": {},
     "output_type": "display_data"
    }
   ],
   "source": [
    "plt.figure()\n",
    "plt.plot(points[:n, 0], points[:n, 1], 'ro')\n",
    "plt.plot(points[n:, 0], points[n:,1], 'bo')\n",
    "plt.savefig(\"binarydata.pdf\")\n",
    "plt.show()"
   ]
  },
  {
   "cell_type": "markdown",
   "metadata": {
    "collapsed": true
   },
   "source": [
    "#### Generating Synthetic Data: Question 1\n",
    "\n",
    "What does ```np.concatenate``` do?\n",
    "\n",
    "- **Takes in a tuple of ```np.array``` and joins them lengthwise along the specified axis**\n",
    "- Takes in a single ```np.array``` and concatenates itself to itself along the specified axis\n",
    "- Takes in a tuple of ```np.arrays``` and sums them along the specified axis\n",
    "\n",
    "#### Generating Synthetic Data: Question 2\n",
    "\n",
    "Do you expect the k-Nearest Neighbors to categorize new values in the synthetic data perfectly?\n",
    "\n",
    "- Yes, because the data are generated according to a true and known model.\n",
    "- **No, because the data contain some observations with a majority of neighbors in another category.**"
   ]
  },
  {
   "cell_type": "code",
   "execution_count": null,
   "metadata": {},
   "outputs": [],
   "source": []
  }
 ],
 "metadata": {
  "anaconda-cloud": {},
  "kernelspec": {
   "display_name": "Python 3",
   "language": "python",
   "name": "python3"
  },
  "language_info": {
   "codemirror_mode": {
    "name": "ipython",
    "version": 3
   },
   "file_extension": ".py",
   "mimetype": "text/x-python",
   "name": "python",
   "nbconvert_exporter": "python",
   "pygments_lexer": "ipython3",
   "version": "3.7.1"
  }
 },
 "nbformat": 4,
 "nbformat_minor": 1
}
