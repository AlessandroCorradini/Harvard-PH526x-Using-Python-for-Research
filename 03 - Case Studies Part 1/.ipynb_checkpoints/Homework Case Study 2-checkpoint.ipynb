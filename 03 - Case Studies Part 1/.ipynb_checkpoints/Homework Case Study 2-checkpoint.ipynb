{
 "cells": [
  {
   "cell_type": "markdown",
   "metadata": {},
   "source": [
    "In this case study, we will find and visualize summary statistics of the text of different translations of Hamlet. For this case study, functions count_words_fast, read_book, and word_stats are already defined as in the Case 2 Videos (Videos 3.2.x).\n",
    "\n",
    "book_titles is a nested dictionary, containing book titles within authors within languages, all of which are strings. These books are all stored online, and are accessed throughout this case study. In this exercise, we will first read in and store each translation of Hamlet."
   ]
  },
  {
   "cell_type": "code",
   "execution_count": 1,
   "metadata": {
    "collapsed": true
   },
   "outputs": [],
   "source": [
    "import os\n",
    "import numpy as np\n",
    "import pandas as pd\n",
    "from collections import Counter\n",
    "import matplotlib.pyplot as plt"
   ]
  },
  {
   "cell_type": "code",
   "execution_count": 2,
   "metadata": {
    "collapsed": true
   },
   "outputs": [],
   "source": [
    "def count_words_fast(text):\n",
    "    '''Count the number of times each word occurs in text (str).\n",
    "    Return dictionary where keys are unique words and values are\n",
    "    word counts. Skips punctuation.\n",
    "    '''\n",
    "    \n",
    "    #lower case letters\n",
    "    text = text.lower()\n",
    "    \n",
    "    #skip punctuation\n",
    "    skips = ['.', ':', ';', \"'\", '\"']\n",
    "    for ch in skips:\n",
    "        text = text.replace(ch, \"\")\n",
    "    \n",
    "    word_counts = Counter(text.split(' '))\n",
    "    return word_counts\n",
    "\n",
    "def read_book(title_path):\n",
    "    '''\n",
    "    Read a book and retirn it as a string\n",
    "    '''\n",
    "    with open(title_path, 'r', encoding = 'UTF-8') as current_file:\n",
    "        text = current_file.read()\n",
    "        text = text.replace('\\n', '').replace('\\r', '')\n",
    "    return text\n",
    "\n",
    "def word_stats(word_counts):\n",
    "    '''\n",
    "    Return number of unique words and\n",
    "    word frequences\n",
    "    '''\n",
    "    num_unique = len(word_counts)\n",
    "    counts = word_counts.values()\n",
    "    return (num_unique, counts)"
   ]
  },
  {
   "cell_type": "markdown",
   "metadata": {},
   "source": [
    "# Exercise 1"
   ]
  },
  {
   "cell_type": "markdown",
   "metadata": {},
   "source": [
    "Instructions\n",
    "\n",
    "- Write a function ```word_count_distribution(text)``` that takes a book string and returns a dictionary with items corresponding to the count of times a collection of words appears in the translation, and values corresponding to the number of number of words that appear with that frequency.\n",
    "- First use ```count_words_fast(text)``` to create a dictionary called ```word_counts``` with unique words in the dictionary as keys and their frequency in the book as values.\n",
    "- Next, create and return a new dictionary ```count_distribution``` with unique values from ```word_counts``` as keys and their frequency as values. For example, 'you are what you eat' contains three words that occur once and one word that occurs twice, so ```word_count_distribution('you are what you eat')``` should return a dictionary {1:3, 2:1}.\n",
    "- 'Romeo and Juliet' is preloaded as ```text```. Call ```word_count_distribution(text)```, and save the result as ```distribution```.\n"
   ]
  },
  {
   "cell_type": "code",
   "execution_count": 3,
   "metadata": {},
   "outputs": [],
   "source": [
    "def word_count_distribution(text):\n",
    "    ''' \n",
    "    Takes a book string and returns a dictionary with items corresponding to the count of times a collection\n",
    "    of words appears in the translation, and values corresponding to the number of number of words that appear \n",
    "    with that frequency.\n",
    "    '''\n",
    "    word_counts = count_words_fast(text)\n",
    "    count_distribution = dict(Counter(word_counts.values()).most_common())\n",
    "    return count_distribution"
   ]
  },
  {
   "cell_type": "code",
   "execution_count": 4,
   "metadata": {},
   "outputs": [
    {
     "data": {
      "text/plain": [
       "{1: 3, 2: 1}"
      ]
     },
     "execution_count": 4,
     "metadata": {},
     "output_type": "execute_result"
    }
   ],
   "source": [
    "word_count_distribution('you are what you eat')"
   ]
  },
  {
   "cell_type": "code",
   "execution_count": 5,
   "metadata": {},
   "outputs": [],
   "source": [
    "text = read_book('books/English/shakespeare/Romeo and Juliet.txt')\n",
    "distribution = word_count_distribution(text)"
   ]
  },
  {
   "cell_type": "code",
   "execution_count": 6,
   "metadata": {
    "scrolled": true
   },
   "outputs": [
    {
     "data": {
      "text/plain": [
       "{1: 3693,\n",
       " 2: 844,\n",
       " 3: 359,\n",
       " 4: 203,\n",
       " 5: 120,\n",
       " 6: 94,\n",
       " 7: 64,\n",
       " 8: 49,\n",
       " 9: 51,\n",
       " 10: 39,\n",
       " 11: 27,\n",
       " 12: 25,\n",
       " 13: 19,\n",
       " 14: 19,\n",
       " 15: 17,\n",
       " 16: 10,\n",
       " 17: 12,\n",
       " 18: 14,\n",
       " 19: 7,\n",
       " 20: 7,\n",
       " 21: 13,\n",
       " 22: 9,\n",
       " 23: 7,\n",
       " 24: 11,\n",
       " 25: 3,\n",
       " 26: 3,\n",
       " 27: 3,\n",
       " 28: 2,\n",
       " 29: 1,\n",
       " 30: 2,\n",
       " 31: 2,\n",
       " 32: 3,\n",
       " 34: 3,\n",
       " 35: 4,\n",
       " 36: 1,\n",
       " 37: 2,\n",
       " 38: 1,\n",
       " 39: 3,\n",
       " 41: 4,\n",
       " 42: 2,\n",
       " 43: 1,\n",
       " 44: 2,\n",
       " 45: 4,\n",
       " 46: 2,\n",
       " 47: 5,\n",
       " 48: 1,\n",
       " 50: 3,\n",
       " 51: 3,\n",
       " 52: 2,\n",
       " 53: 4,\n",
       " 55: 2,\n",
       " 56: 2,\n",
       " 57: 1,\n",
       " 58: 2,\n",
       " 59: 1,\n",
       " 60: 1,\n",
       " 61: 2,\n",
       " 62: 1,\n",
       " 63: 1,\n",
       " 64: 2,\n",
       " 65: 2,\n",
       " 67: 2,\n",
       " 69: 1,\n",
       " 73: 1,\n",
       " 75: 1,\n",
       " 79: 1,\n",
       " 80: 1,\n",
       " 82: 2,\n",
       " 84: 1,\n",
       " 85: 2,\n",
       " 86: 1,\n",
       " 88: 2,\n",
       " 95: 1,\n",
       " 96: 1,\n",
       " 97: 1,\n",
       " 98: 1,\n",
       " 104: 1,\n",
       " 106: 2,\n",
       " 110: 1,\n",
       " 111: 1,\n",
       " 114: 1,\n",
       " 115: 1,\n",
       " 117: 1,\n",
       " 124: 1,\n",
       " 128: 2,\n",
       " 130: 2,\n",
       " 138: 1,\n",
       " 143: 1,\n",
       " 147: 1,\n",
       " 163: 2,\n",
       " 165: 1,\n",
       " 179: 1,\n",
       " 211: 1,\n",
       " 222: 2,\n",
       " 246: 1,\n",
       " 253: 1,\n",
       " 255: 1,\n",
       " 268: 1,\n",
       " 286: 1,\n",
       " 318: 1,\n",
       " 344: 1,\n",
       " 360: 1,\n",
       " 362: 1,\n",
       " 368: 1,\n",
       " 509: 1,\n",
       " 527: 1,\n",
       " 565: 1,\n",
       " 601: 1,\n",
       " 756: 1,\n",
       " 834: 1,\n",
       " 12183: 1}"
      ]
     },
     "execution_count": 6,
     "metadata": {},
     "output_type": "execute_result"
    }
   ],
   "source": [
    "distribution"
   ]
  },
  {
   "cell_type": "markdown",
   "metadata": {},
   "source": [
    "# Exercise 2"
   ]
  },
  {
   "cell_type": "markdown",
   "metadata": {},
   "source": [
    "\n",
    "- Create a function ```more_frequent(distribution)``` that takes a word frequency dictionary (like that made in Exercise 1) and outputs a dictionary with the same keys as those in distribution (the number of times a group of words appears in the text), and values corresponding to the fraction of words that occur with more frequency than that key.\n",
    "- Call ```more_frequent(distribution)```, and store as ```cumulative```.\n"
   ]
  },
  {
   "cell_type": "code",
   "execution_count": 7,
   "metadata": {},
   "outputs": [],
   "source": [
    "def more_frequent(distribution):\n",
    "    '''\n",
    "    Takes a word frequency dictionary and outputs a dictionary with the same keys as those in distribution and values corresponding to the fraction of words that occur with more frequency than that key.\n",
    "    '''\n",
    "    #Take the Values of the dictionary\n",
    "    myValuesList = list(distribution.values())\n",
    "    #Take the keys of the dictionary\n",
    "    myKeyslist = list(distribution.keys())\n",
    "    #cumsum the values of the dictionary\n",
    "    myCumList = np.cumsum(myValuesList)\n",
    "    #Sum the values of the dictionary\n",
    "    mySumList =  sum(myValuesList)\n",
    "    #map the values to new dictionary    \n",
    "    distribution = dict(zip(myKeyslist, 1 - myCumList/mySumList))\n",
    "   \n",
    "    return distribution"
   ]
  },
  {
   "cell_type": "code",
   "execution_count": 8,
   "metadata": {},
   "outputs": [
    {
     "name": "stdout",
     "output_type": "stream",
     "text": [
      "{1: 0.3692570452604611, 2: 0.22510674637062345, 3: 0.16379163108454309, 4: 0.12912040990606322, 5: 0.1086251067463706, 6: 0.092570452604611497, 7: 0.081639624252775378, 8: 0.073270708795900918, 9: 0.064560204953031608, 10: 0.057899231426131514, 11: 0.053287788215200638, 12: 0.049017933390264723, 13: 0.045772843723313361, 14: 0.04252775405636211, 15: 0.0396242527754056, 16: 0.037916310845431234, 17: 0.035866780529462017, 18: 0.033475661827497838, 19: 0.032280102476515804, 20: 0.03108454312553377, 21: 0.028864218616567072, 22: 0.027327070879590076, 23: 0.026131511528608042, 24: 0.024252775405636195, 25: 0.023740392826643864, 26: 0.023228010247651532, 27: 0.022715627668659311, 28: 0.022374039282664349, 29: 0.022203245089666979, 30: 0.021861656703672128, 31: 0.021520068317677166, 32: 0.021007685738684834, 34: 0.020495303159692613, 35: 0.0198121263877028, 36: 0.01964133219470543, 37: 0.019299743808710468, 38: 0.019128949615713098, 39: 0.018616567036720766, 41: 0.017933390264730953, 42: 0.017591801878736102, 43: 0.017421007685738732, 44: 0.01707941929974377, 45: 0.016396242527754068, 46: 0.016054654141759217, 47: 0.015200683176772034, 48: 0.015029888983774553, 50: 0.014517506404782221, 51: 0.014005123825789889, 52: 0.013663535439795038, 53: 0.012980358667805336, 55: 0.012638770281810374, 56: 0.012297181895815523, 57: 0.012126387702818153, 58: 0.011784799316823191, 59: 0.011614005123825821, 60: 0.01144321093082834, 61: 0.011101622544833489, 318: 0.010930828351836008, 565: 0.010760034158838638, 64: 0.010418445772843676, 65: 0.010076857386848825, 834: 0.0099060631938514554, 67: 0.0095644748078564934, 69: 0.0093936806148591234, 268: 0.0092228864218616424, 75: 0.0090520922288642724, 79: 0.0088812980358667915, 80: 0.0087105038428693105, 82: 0.0083689154568744595, 84: 0.0081981212638769785, 85: 0.0078565328778821275, 86: 0.0076857386848847575, 88: 0.0073441502988897955, 601: 0.0071733561058924256, 527: 0.0070025619128949446, 95: 0.0068317677198975746, 344: 0.0066609735269000936, 97: 0.0064901793339026126, 98: 0.0063193851409052426, 360: 0.0061485909479077616, 106: 0.0058070025619129106, 96: 0.0056362083689154296, 111: 0.0054654141759180597, 368: 0.0052946199829205787, 104: 0.0051238257899230977, 114: 0.0049530315969257277, 115: 0.0047822374039282467, 117: 0.0046114432109308767, 62: 0.0044406490179333957, 63: 0.0042698548249359147, 124: 0.0040990606319385448, 362: 0.0039282664389410638, 128: 0.0035866780529462128, 130: 0.0032450896669513618, 138: 0.0030742954739538808, 143: 0.0029035012809563998, 147: 0.0027327070879590298, 110: 0.0025619128949615488, 12183: 0.0023911187019641789, 163: 0.0020495303159692169, 165: 0.0018787361229718469, 179: 0.0017079419299743659, 286: 0.0015371477369769959, 73: 0.0013663535439795149, 211: 0.0011955593509820339, 222: 0.00085397096498718295, 509: 0.000170794192997481, 756: 0.00051238257899233197, 246: 0.00034158838599485097, 253: 0.00068317677198970195, 255: 0.0}\n"
     ]
    }
   ],
   "source": [
    "cumulative = more_frequent(distribution)\n",
    "print(cumulative)"
   ]
  },
  {
   "cell_type": "markdown",
   "metadata": {},
   "source": [
    "# Exercise 3"
   ]
  },
  {
   "cell_type": "markdown",
   "metadata": {},
   "source": [
    "Edit the code used to read though each of the books in our library, and store the word frequency distribution for each translation of William Shakespeare's \"Hamlet\" as a Pandas dataframe ```hamlets``` with columns named \"language\" and \"distribution\". \n",
    "```word_count_distribution``` is preloaded from Exercise 1. How many translations are there? Which languages are they translated into?"
   ]
  },
  {
   "cell_type": "code",
   "execution_count": 10,
   "metadata": {},
   "outputs": [],
   "source": [
    "hamlets = pd.DataFrame(columns=('language','distribution'))\n",
    "book_dir = './books'\n",
    "title_num = 1\n",
    "for language in os.listdir(book_dir):\n",
    "    for author in os.listdir(book_dir + \"/\" + language):\n",
    "        for title in os.listdir(book_dir + \"/\" + language + '/' + author):\n",
    "            if title == \"Hamlet.txt\":\n",
    "                inputfile = book_dir + '/' + language + '/' + author + '/' + title\n",
    "                #data_filepath+\"Books/\"+language+\"/\"+author+\"/\"+title+\".txt\"\n",
    "                text = read_book(inputfile)\n",
    "                distribution = word_count_distribution(text)\n",
    "                hamlets.loc[title_num] = language, distribution\n",
    "                title_num += 1"
   ]
  },
  {
   "cell_type": "code",
   "execution_count": 11,
   "metadata": {},
   "outputs": [
    {
     "data": {
      "text/html": [
       "<div>\n",
       "<table border=\"1\" class=\"dataframe\">\n",
       "  <thead>\n",
       "    <tr style=\"text-align: right;\">\n",
       "      <th></th>\n",
       "      <th>language</th>\n",
       "      <th>distribution</th>\n",
       "    </tr>\n",
       "  </thead>\n",
       "  <tbody>\n",
       "    <tr>\n",
       "      <th>1</th>\n",
       "      <td>English</td>\n",
       "      <td>{1: 5180, 2: 647, 3: 250, 4: 146, 5: 92, 6: 56...</td>\n",
       "    </tr>\n",
       "    <tr>\n",
       "      <th>2</th>\n",
       "      <td>German</td>\n",
       "      <td>{1: 8216, 2: 947, 3: 386, 4: 207, 5: 122, 6: 7...</td>\n",
       "    </tr>\n",
       "    <tr>\n",
       "      <th>3</th>\n",
       "      <td>Portuguese</td>\n",
       "      <td>{1: 8239, 2: 1045, 3: 392, 4: 221, 5: 109, 6: ...</td>\n",
       "    </tr>\n",
       "  </tbody>\n",
       "</table>\n",
       "</div>"
      ],
      "text/plain": [
       "     language                                       distribution\n",
       "1     English  {1: 5180, 2: 647, 3: 250, 4: 146, 5: 92, 6: 56...\n",
       "2      German  {1: 8216, 2: 947, 3: 386, 4: 207, 5: 122, 6: 7...\n",
       "3  Portuguese  {1: 8239, 2: 1045, 3: 392, 4: 221, 5: 109, 6: ..."
      ]
     },
     "execution_count": 11,
     "metadata": {},
     "output_type": "execute_result"
    }
   ],
   "source": [
    "hamlets"
   ]
  },
  {
   "cell_type": "markdown",
   "metadata": {},
   "source": [
    "# Exercise 4"
   ]
  },
  {
   "cell_type": "markdown",
   "metadata": {},
   "source": [
    "Plot the word frequency distributions of each translations on a single log-log plot. Note that we have already done most of the work for you. Do the distributions of each translation differ?"
   ]
  },
  {
   "cell_type": "code",
   "execution_count": 15,
   "metadata": {},
   "outputs": [
    {
     "data": {
      "image/png": "[encoded data removed]",
      "text/plain": [
       "<matplotlib.figure.Figure at 0xf7ba27df28>"
      ]
     },
     "metadata": {},
     "output_type": "display_data"
    }
   ],
   "source": [
    "colors = [\"crimson\", \"forestgreen\", \"blueviolet\"]\n",
    "handles, hamlet_languages = [], []\n",
    "for index in range(hamlets.shape[0]):\n",
    "    language, distribution = hamlets.language[index+1], hamlets.distribution[index+1]\n",
    "    dist = more_frequent(distribution)\n",
    "    plot = plt.loglog(sorted(list(dist.keys())),sorted(list(dist.values()), reverse = True), color = colors[index], linewidth = 2)\n",
    "    handles.append(plot)\n",
    "    hamlet_languages.append(language)\n",
    "plt.title(\"Word Frequencies in Hamlet Translations\")\n",
    "xlim    = [0, 2e3]\n",
    "xlabel  = \"Frequency of Word $W$\"\n",
    "ylabel  = \"Fraction of Words\\nWith Greater Frequency than $W$\"\n",
    "plt.xlim(xlim); plt.xlabel(xlabel); plt.ylabel(ylabel)\n",
    "plt.legend(handles, hamlet_languages, loc = \"upper right\", numpoints = 1);\n",
    "# show your plot using `plt.show`!\n",
    "plt.show();"
   ]
  }
 ],
 "metadata": {
  "anaconda-cloud": {},
  "kernelspec": {
   "display_name": "Python 3",
   "language": "python",
   "name": "python3"
  },
  "language_info": {
   "codemirror_mode": {
    "name": "ipython",
    "version": 3
   },
   "file_extension": ".py",
   "mimetype": "text/x-python",
   "name": "python",
   "nbconvert_exporter": "python",
   "pygments_lexer": "ipython3",
   "version": "3.7.1"
  }
 },
 "nbformat": 4,
 "nbformat_minor": 1
}
