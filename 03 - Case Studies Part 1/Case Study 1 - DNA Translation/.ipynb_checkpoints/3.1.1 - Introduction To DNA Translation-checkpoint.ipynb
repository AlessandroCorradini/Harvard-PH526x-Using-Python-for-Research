{
 "cells": [
  {
   "cell_type": "markdown",
   "metadata": {},
   "source": [
    "Which of the following is NOT a nucleotide?\n",
    "\n",
    "- Adenine\n",
    "- Cytosine\n",
    "- Guanine\n",
    "- **Lysine**\n",
    "- Thymine "
   ]
  },
  {
   "cell_type": "markdown",
   "metadata": {
    "collapsed": true
   },
   "source": [
    "What is the central dogma of molecular biology that describes the basic flow of genetic information?\n",
    "\n",
    "- **DNA -> RNA -> Protein**\n",
    "- RNA -> DNA -> Protein\n",
    "- RNA -> RNA -> Protein\n",
    "- DNA -> Protein -> RNA "
   ]
  },
  {
   "cell_type": "code",
   "execution_count": null,
   "metadata": {
    "collapsed": true
   },
   "outputs": [],
   "source": []
  }
 ],
 "metadata": {
  "anaconda-cloud": {},
  "kernelspec": {
   "display_name": "Python 3",
   "language": "python",
   "name": "python3"
  },
  "language_info": {
   "codemirror_mode": {
    "name": "ipython",
    "version": 3
   },
   "file_extension": ".py",
   "mimetype": "text/x-python",
   "name": "python",
   "nbconvert_exporter": "python",
   "pygments_lexer": "ipython3",
   "version": "3.7.1"
  }
 },
 "nbformat": 4,
 "nbformat_minor": 1
}
