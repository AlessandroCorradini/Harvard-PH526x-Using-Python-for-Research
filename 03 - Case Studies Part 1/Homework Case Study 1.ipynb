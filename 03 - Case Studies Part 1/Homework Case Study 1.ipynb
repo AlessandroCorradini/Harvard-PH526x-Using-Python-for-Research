{
 "cells": [
  {
   "cell_type": "markdown",
   "metadata": {},
   "source": [
    "# Exercise 1"
   ]
  },
  {
   "cell_type": "markdown",
   "metadata": {},
   "source": [
    "A cipher is a secret code for a language. In this case study, we will explore a cipher that is reported by contemporary Greek historians to have been used by Julius Caesar to send secret messages to generals during times of war.\n",
    "\n",
    "The Caesar cipher shifts each letter of this message to another letter in the alphabet, which is a fixed number of letters away from the original. If our encryption key were 1, we would shift h to the next letter i, i to the next letter j, and so on. If we reach the end of the alphabet, which for us is the space character, we simply loop back to a. To decode the message, we make a similar shift, except we move the same number of steps backwards in the alphabet.\n",
    "\n",
    "**Instructions**\n",
    "\n",
    "- The ```string``` library has been imported. Create a string called ```alphabet``` consisting of the lowercase letters of the space character space ```' '```, concatenated with ```string.ascii_lowercase``` at the end."
   ]
  },
  {
   "cell_type": "code",
   "execution_count": 1,
   "metadata": {},
   "outputs": [],
   "source": [
    "import string\n",
    "string.ascii_lowercase\n",
    "\n",
    "alphabet = \" \" + string.ascii_lowercase\n",
    "\n",
    "letters = dict(enumerate(alphabet))"
   ]
  },
  {
   "cell_type": "code",
   "execution_count": 2,
   "metadata": {},
   "outputs": [
    {
     "data": {
      "text/plain": [
       "{0: ' ',\n",
       " 1: 'a',\n",
       " 2: 'b',\n",
       " 3: 'c',\n",
       " 4: 'd',\n",
       " 5: 'e',\n",
       " 6: 'f',\n",
       " 7: 'g',\n",
       " 8: 'h',\n",
       " 9: 'i',\n",
       " 10: 'j',\n",
       " 11: 'k',\n",
       " 12: 'l',\n",
       " 13: 'm',\n",
       " 14: 'n',\n",
       " 15: 'o',\n",
       " 16: 'p',\n",
       " 17: 'q',\n",
       " 18: 'r',\n",
       " 19: 's',\n",
       " 20: 't',\n",
       " 21: 'u',\n",
       " 22: 'v',\n",
       " 23: 'w',\n",
       " 24: 'x',\n",
       " 25: 'y',\n",
       " 26: 'z'}"
      ]
     },
     "execution_count": 2,
     "metadata": {},
     "output_type": "execute_result"
    }
   ],
   "source": [
    "letters"
   ]
  },
  {
   "cell_type": "code",
   "execution_count": 34,
   "metadata": {},
   "outputs": [
    {
     "data": {
      "text/plain": [
       "27"
      ]
     },
     "execution_count": 34,
     "metadata": {},
     "output_type": "execute_result"
    }
   ],
   "source": [
    "len(letters)"
   ]
  },
  {
   "cell_type": "markdown",
   "metadata": {},
   "source": [
    "# Exercise 2"
   ]
  },
  {
   "cell_type": "markdown",
   "metadata": {},
   "source": [
    "**Instructions**\n",
    "\n",
    "- ```alphabet``` and ```letters``` are already defined. Create a dictionary ```encoding``` with keys being the characters in ```alphabet``` and values being numbers from 0-26, shifted by an integer ```encryption_key=3```. For example, the key a should have value ```encryption_key```, key b should have value ```encryption_key + 1```, and so on. If any result of this addition is less than 0 or greater than 26, you can ensure the result remains within 0-26 using result % 27.\n"
   ]
  },
  {
   "cell_type": "code",
   "execution_count": 203,
   "metadata": {},
   "outputs": [
    {
     "data": {
      "text/plain": [
       "{' ': 2,\n",
       " 'a': 3,\n",
       " 'b': 4,\n",
       " 'c': 5,\n",
       " 'd': 6,\n",
       " 'e': 7,\n",
       " 'f': 8,\n",
       " 'g': 9,\n",
       " 'h': 10,\n",
       " 'i': 11,\n",
       " 'j': 12,\n",
       " 'k': 13,\n",
       " 'l': 14,\n",
       " 'm': 15,\n",
       " 'n': 16,\n",
       " 'o': 17,\n",
       " 'p': 18,\n",
       " 'q': 19,\n",
       " 'r': 20,\n",
       " 's': 21,\n",
       " 't': 22,\n",
       " 'u': 23,\n",
       " 'v': 24,\n",
       " 'w': 25,\n",
       " 'x': 26,\n",
       " 'y': 0,\n",
       " 'z': 1}"
      ]
     },
     "execution_count": 203,
     "metadata": {},
     "output_type": "execute_result"
    }
   ],
   "source": [
    "encoding = {}\n",
    "encryption_key=3\n",
    "for i in range(encryption_key, len(alphabet) + encryption_key):\n",
    "    character = alphabet[i-encryption_key]\n",
    "    encode = i%27\n",
    "    encoding[character] = encode\n",
    "    #print (character, encode)\n",
    "encoding"
   ]
  },
  {
   "cell_type": "markdown",
   "metadata": {},
   "source": [
    "# Exercise 3"
   ]
  },
  {
   "cell_type": "markdown",
   "metadata": {},
   "source": [
    "**Instructions**\n",
    "\n",
    "- ```alphabet``` and ```letters``` are preloaded from the previous exercise. Write a function ```caesar(message, encryption_key)``` to encode a message with the Caesar cipher.\n",
    "- Use your code from Exercise 2 to find the value of ```encoding``` for each letter in message.\n",
    "- Use these values as keys in the dictionary ```letters``` to determine the encoded letter for each letter in ```message```.\n",
    "- Your function should return a string consisting of these encoded letters.\n",
    "- Use ```caesar``` to encode message using ```encryption_key = 3```, and save the result as ```encoded_message```.\n",
    "- Print ```encoded_message```.\n"
   ]
  },
  {
   "cell_type": "code",
   "execution_count": 232,
   "metadata": {},
   "outputs": [
    {
     "name": "stdout",
     "output_type": "stream",
     "text": [
      "klcpacqdphclvcfdhvdu\n"
     ]
    }
   ],
   "source": [
    "def caesar(message, encryption_key):\n",
    "    encoding = {}\n",
    "    for i in range(encryption_key, len(alphabet) + encryption_key, 1):\n",
    "        character = alphabet[i-encryption_key]\n",
    "        encode = i%27\n",
    "        encoding[character] = encode\n",
    "    # return the encoded message as a single string!\n",
    "    new_character = \"\"\n",
    "    for i,character in enumerate(message):\n",
    "        #print(new_character)\n",
    "        new_character += str(letters[encoding[character]])\n",
    "    return new_character\n",
    "message = \"hi my name is caesar\"\n",
    "encryption_key = 3\n",
    "encoded_message = caesar(message, encryption_key)\n",
    "print(encoded_message)"
   ]
  },
  {
   "cell_type": "markdown",
   "metadata": {},
   "source": [
    "# Exercise 4"
   ]
  },
  {
   "cell_type": "markdown",
   "metadata": {},
   "source": [
    "**Instructions**\n",
    "\n",
    "- Note that ```encoded_message``` is already loaded from the previous problem. Use ```caesar``` to decode ```encoded_message``` using ```encryption_key = -3```.\n",
    "- Store your decoded message as ```decoded_message```.\n",
    "- Print ```decoded_message```. Does this recover your original message?\n"
   ]
  },
  {
   "cell_type": "code",
   "execution_count": 234,
   "metadata": {},
   "outputs": [
    {
     "name": "stdout",
     "output_type": "stream",
     "text": [
      "hi my name is caesar\n"
     ]
    }
   ],
   "source": [
    "encoded_message = \"klcpacqdphclvcfdhvdu\"\n",
    "encryption_key = -3\n",
    "decoded_message = caesar(encoded_message, encryption_key)\n",
    "print(decoded_message)"
   ]
  },
  {
   "cell_type": "code",
   "execution_count": null,
   "metadata": {
    "collapsed": true
   },
   "outputs": [],
   "source": []
  }
 ],
 "metadata": {
  "anaconda-cloud": {},
  "kernelspec": {
   "display_name": "Python 3",
   "language": "python",
   "name": "python3"
  },
  "language_info": {
   "codemirror_mode": {
    "name": "ipython",
    "version": 3
   },
   "file_extension": ".py",
   "mimetype": "text/x-python",
   "name": "python",
   "nbconvert_exporter": "python",
   "pygments_lexer": "ipython3",
   "version": "3.7.1"
  }
 },
 "nbformat": 4,
 "nbformat_minor": 1
}
