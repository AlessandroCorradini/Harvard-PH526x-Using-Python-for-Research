{
 "cells": [
  {
   "cell_type": "code",
   "execution_count": 29,
   "metadata": {
    "collapsed": true
   },
   "outputs": [],
   "source": [
    "#test string\n",
    "test = 'This is my test text. We are keeping this text to keep this manageable.'"
   ]
  },
  {
   "cell_type": "code",
   "execution_count": 30,
   "metadata": {
    "collapsed": true
   },
   "outputs": [],
   "source": [
    "def count_words(text):\n",
    "    '''Count the number of times each word occurs in text (str).\n",
    "    Return dictionary where keys are unique words and values are\n",
    "    word counts'''\n",
    "    word_counts = {}\n",
    "    for word in text.split(\" \"):\n",
    "        #known word\n",
    "        if word in word_counts:\n",
    "            word_counts[word] +=1 \n",
    "        #unknown word\n",
    "        else:\n",
    "            word_counts[word] = 1\n",
    "    return word_counts"
   ]
  },
  {
   "cell_type": "code",
   "execution_count": 31,
   "metadata": {},
   "outputs": [
    {
     "data": {
      "text/plain": [
       "{'This': 1,\n",
       " 'We': 1,\n",
       " 'are': 1,\n",
       " 'is': 1,\n",
       " 'keep': 1,\n",
       " 'keeping': 1,\n",
       " 'manageable.': 1,\n",
       " 'my': 1,\n",
       " 'test': 1,\n",
       " 'text': 1,\n",
       " 'text.': 1,\n",
       " 'this': 2,\n",
       " 'to': 1}"
      ]
     },
     "execution_count": 31,
     "metadata": {},
     "output_type": "execute_result"
    }
   ],
   "source": [
    "count_words(test)"
   ]
  },
  {
   "cell_type": "code",
   "execution_count": 32,
   "metadata": {
    "collapsed": true
   },
   "outputs": [],
   "source": [
    "def count_words(text):\n",
    "    '''Count the number of times each word occurs in text (str).\n",
    "    Return dictionary where keys are unique words and values are\n",
    "    word counts. Skips punctuation'''\n",
    "    \n",
    "    #lower case letters\n",
    "    text = text.lower()\n",
    "    \n",
    "    #skip punctuation\n",
    "    skips = ['.', ':', ';', \"'\", '\"']\n",
    "    for ch in skips:\n",
    "        text = text.replace(ch, \"\")\n",
    "    \n",
    "    word_counts = {}\n",
    "    for word in text.split(\" \"):\n",
    "        #known word\n",
    "        if word in word_counts:\n",
    "            word_counts[word] +=1 \n",
    "        #unknown word\n",
    "        else:\n",
    "            word_counts[word] = 1\n",
    "    return word_counts"
   ]
  },
  {
   "cell_type": "code",
   "execution_count": 33,
   "metadata": {},
   "outputs": [
    {
     "data": {
      "text/plain": [
       "{'are': 1,\n",
       " 'is': 1,\n",
       " 'keep': 1,\n",
       " 'keeping': 1,\n",
       " 'manageable': 1,\n",
       " 'my': 1,\n",
       " 'test': 1,\n",
       " 'text': 2,\n",
       " 'this': 3,\n",
       " 'to': 1,\n",
       " 'we': 1}"
      ]
     },
     "execution_count": 33,
     "metadata": {},
     "output_type": "execute_result"
    }
   ],
   "source": [
    "count_words(test)"
   ]
  },
  {
   "cell_type": "code",
   "execution_count": 34,
   "metadata": {},
   "outputs": [],
   "source": [
    "from collections import Counter\n",
    "\n",
    "def count_words_fast(text):\n",
    "    '''Count the number of times each word occurs in text (str).\n",
    "    Return dictionary where keys are unique words and values are\n",
    "    word counts. Skips punctuation'''\n",
    "    \n",
    "    #lower case letters\n",
    "    text = text.lower()\n",
    "    \n",
    "    #skip punctuation\n",
    "    skips = ['.', ':', ';', \"'\", '\"']\n",
    "    for ch in skips:\n",
    "        text = text.replace(ch, \"\")\n",
    "    \n",
    "    word_counts = Counter(text.split(' '))\n",
    "    return word_counts"
   ]
  },
  {
   "cell_type": "code",
   "execution_count": 35,
   "metadata": {},
   "outputs": [
    {
     "data": {
      "text/plain": [
       "Counter({'are': 1,\n",
       "         'is': 1,\n",
       "         'keep': 1,\n",
       "         'keeping': 1,\n",
       "         'manageable': 1,\n",
       "         'my': 1,\n",
       "         'test': 1,\n",
       "         'text': 2,\n",
       "         'this': 3,\n",
       "         'to': 1,\n",
       "         'we': 1})"
      ]
     },
     "execution_count": 35,
     "metadata": {},
     "output_type": "execute_result"
    }
   ],
   "source": [
    "count_words_fast(test)"
   ]
  },
  {
   "cell_type": "code",
   "execution_count": 36,
   "metadata": {},
   "outputs": [
    {
     "data": {
      "text/plain": [
       "True"
      ]
     },
     "execution_count": 36,
     "metadata": {},
     "output_type": "execute_result"
    }
   ],
   "source": [
    "count_words_fast(test) == count_words(test)"
   ]
  },
  {
   "cell_type": "code",
   "execution_count": 37,
   "metadata": {},
   "outputs": [
    {
     "data": {
      "text/plain": [
       "6"
      ]
     },
     "execution_count": 37,
     "metadata": {},
     "output_type": "execute_result"
    }
   ],
   "source": [
    "len(count_words(\"This comprehension check is to check for comprehension.\"))"
   ]
  },
  {
   "cell_type": "code",
   "execution_count": 40,
   "metadata": {},
   "outputs": [
    {
     "data": {
      "text/plain": [
       "False"
      ]
     },
     "execution_count": 40,
     "metadata": {},
     "output_type": "execute_result"
    }
   ],
   "source": [
    "text = 'This comprehension check is to check for comprehension.'\n",
    "count_words(text) is count_words_fast(text)"
   ]
  },
  {
   "cell_type": "code",
   "execution_count": 41,
   "metadata": {},
   "outputs": [
    {
     "data": {
      "text/plain": [
       "True"
      ]
     },
     "execution_count": 41,
     "metadata": {},
     "output_type": "execute_result"
    }
   ],
   "source": [
    "text = 'This comprehension check is to check for comprehension.'\n",
    "count_words(text) == count_words_fast(text)"
   ]
  },
  {
   "cell_type": "markdown",
   "metadata": {},
   "source": [
    "#### Introduction to Language Processing: Question 1\n",
    "\n",
    "What is Project Gutenberg?\n",
    "\n",
    "- **An online repository of publically available books in many languages.**\n",
    "- An online repository of electronically-scanned microfiche copies of the original works of Martin Luther.\n",
    "- An online translation service that can be used for any text file, including entire books."
   ]
  },
  {
   "cell_type": "markdown",
   "metadata": {},
   "source": [
    "#### Counting Words: Question 1\n",
    "\n",
    "The function ```count_words``` is as defined in Video 3.2.2.\n",
    "\n",
    "Consider the following code:\n",
    "\n",
    "```len(count_words(\"This comprehension check is to check for comprehension.\"))```\n",
    "\n",
    "What does this return?\n",
    "\n",
    "- 5\n",
    "- **6**\n",
    "- 7\n",
    "- 8\n",
    "\n",
    "#### Counting Words: Question 2\n",
    "\n",
    "The functions ```count_words``` and ```count_words_fast``` are as defined in Video 3.2.2. Consider the following code:\n",
    "\n",
    "```count_words(text) is count_words_fast(text)```\n",
    "\n",
    "What does this return?\n",
    "\n",
    "- True\n",
    "- **False**"
   ]
  },
  {
   "cell_type": "code",
   "execution_count": null,
   "metadata": {},
   "outputs": [],
   "source": []
  }
 ],
 "metadata": {
  "anaconda-cloud": {},
  "kernelspec": {
   "display_name": "Python 3",
   "language": "python",
   "name": "python3"
  },
  "language_info": {
   "codemirror_mode": {
    "name": "ipython",
    "version": 3
   },
   "file_extension": ".py",
   "mimetype": "text/x-python",
   "name": "python",
   "nbconvert_exporter": "python",
   "pygments_lexer": "ipython3",
   "version": "3.7.1"
  }
 },
 "nbformat": 4,
 "nbformat_minor": 1
}
