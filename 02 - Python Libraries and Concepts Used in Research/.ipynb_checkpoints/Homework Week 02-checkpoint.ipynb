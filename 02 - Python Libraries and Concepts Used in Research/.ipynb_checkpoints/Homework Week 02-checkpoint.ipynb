{
 "cells": [
  {
   "cell_type": "markdown",
   "metadata": {},
   "source": []
  },
  {
   "cell_type": "markdown",
   "metadata": {},
   "source": [
    "# Exercise 1"
   ]
  },
  {
   "cell_type": "markdown",
   "metadata": {},
   "source": [
    "**Instructions**\n",
    "\n",
    "Tic-tac-toe (or noughts and crosses) is a simple strategy game in which two players take turns placing a mark on a 3x3 board, attempting to make a row, column, or diagonal of three with their mark. In this homework, we will use the tools we've covered in the past two weeks to create a tic-tac-toe simulator, and evaluate basic winning strategies.\n",
    "\n",
    "- For our tic-tac-toe board, we will use a numpy array with dimension 3 by 3. Make a function ```create_board()``` that creates such a board, with values of integers 0.\n",
    "- Call ```create_board()```, and store this as board.\n"
   ]
  },
  {
   "cell_type": "code",
   "execution_count": 2,
   "metadata": {
    "collapsed": true
   },
   "outputs": [],
   "source": [
    "import numpy as np\n",
    "import random\n",
    "import matplotlib.pyplot as plt\n",
    "import time"
   ]
  },
  {
   "cell_type": "code",
   "execution_count": 3,
   "metadata": {},
   "outputs": [],
   "source": [
    "def create_board():\n",
    "    return np.array([[0,0,0],[0,0,0],[0,0,0]])\n",
    "\n",
    "board = create_board()"
   ]
  },
  {
   "cell_type": "code",
   "execution_count": 4,
   "metadata": {},
   "outputs": [
    {
     "data": {
      "text/plain": [
       "array([[0, 0, 0],\n",
       "       [0, 0, 0],\n",
       "       [0, 0, 0]])"
      ]
     },
     "execution_count": 4,
     "metadata": {},
     "output_type": "execute_result"
    }
   ],
   "source": [
    "board"
   ]
  },
  {
   "cell_type": "markdown",
   "metadata": {},
   "source": [
    "# Exercise 2"
   ]
  },
  {
   "cell_type": "markdown",
   "metadata": {},
   "source": [
    "**Instructions**\n",
    "\n",
    "- Create a function ```place(board, player, position)```, where:\n",
    "    - ```player``` is the current player (an integer 1 or 2)\n",
    "    - ```position``` a tuple of length 2 specifying a desired location to place their marker.\n",
    "    - Your function should only allow the current player to place a marker on the board (change the board position to their number) if that position is empty (zero).\n",
    "- Use ```create_board()``` to store a board as board, and use place to have Player 1 place a marker on location (0, 0)"
   ]
  },
  {
   "cell_type": "code",
   "execution_count": 5,
   "metadata": {},
   "outputs": [],
   "source": [
    "board = create_board()\n",
    "def place(board, player, position):\n",
    "    board[position] = player \n",
    "    return board"
   ]
  },
  {
   "cell_type": "code",
   "execution_count": 6,
   "metadata": {},
   "outputs": [
    {
     "data": {
      "text/plain": [
       "array([[1, 0, 0],\n",
       "       [0, 0, 0],\n",
       "       [0, 0, 0]])"
      ]
     },
     "execution_count": 6,
     "metadata": {},
     "output_type": "execute_result"
    }
   ],
   "source": [
    "place(board, 1, (0,0))"
   ]
  },
  {
   "cell_type": "markdown",
   "metadata": {
    "collapsed": true
   },
   "source": [
    "# Exercise 3"
   ]
  },
  {
   "cell_type": "markdown",
   "metadata": {},
   "source": [
    "**Instructions**\n",
    "\n",
    "- Create a function ```possibilities(board)``` that returns a list of all positions (```tuples```) on the board that are not occupied (0). (Hint: ```numpy.where``` is a handy function that returns a list of indexes that meet a condition.)\n",
    "- ```board``` is already defined from previous exercises. Call ```possibilities(board)``` to see what it returns!\n"
   ]
  },
  {
   "cell_type": "code",
   "execution_count": 7,
   "metadata": {},
   "outputs": [],
   "source": [
    "def possibilities(board):\n",
    "    a = np.where(board == 0)\n",
    "    return a"
   ]
  },
  {
   "cell_type": "code",
   "execution_count": 8,
   "metadata": {},
   "outputs": [
    {
     "data": {
      "text/plain": [
       "(array([0, 0, 1, 1, 1, 2, 2, 2], dtype=int64),\n",
       " array([1, 2, 0, 1, 2, 0, 1, 2], dtype=int64))"
      ]
     },
     "execution_count": 8,
     "metadata": {},
     "output_type": "execute_result"
    }
   ],
   "source": [
    "possibilities(board)"
   ]
  },
  {
   "cell_type": "markdown",
   "metadata": {},
   "source": [
    "# Exercise 4"
   ]
  },
  {
   "cell_type": "markdown",
   "metadata": {},
   "source": [
    "**Instructions**\n",
    "\n",
    "- Write a function ```random_place(board, player)``` that places a marker for the current player at random among all the available positions (those currently set to 0).\n",
    "    - Find possible placements with ```possibilities(board)```.\n",
    "    - Select one possible placement at random using ```random.choice(selection)```.\n",
    "- ```board``` is already defined from previous exercises. Call ```random_place(board, player)``` to place a random marker for Player 2, and store this as ```board``` to update its value.\n"
   ]
  },
  {
   "cell_type": "code",
   "execution_count": 9,
   "metadata": {},
   "outputs": [],
   "source": [
    "def random_place(board,player):\n",
    "    marker = random.choice(possibilities(board))\n",
    "    return place(board, player, marker)"
   ]
  },
  {
   "cell_type": "code",
   "execution_count": 10,
   "metadata": {},
   "outputs": [
    {
     "data": {
      "text/plain": [
       "array([[1, 1, 1],\n",
       "       [1, 1, 1],\n",
       "       [1, 1, 1]])"
      ]
     },
     "execution_count": 10,
     "metadata": {},
     "output_type": "execute_result"
    }
   ],
   "source": [
    "random_place(board, 1)"
   ]
  },
  {
   "cell_type": "markdown",
   "metadata": {},
   "source": [
    "# Exercise 5"
   ]
  },
  {
   "cell_type": "markdown",
   "metadata": {},
   "source": [
    "**Instructions**\n",
    "\n",
    "- ```board``` is already defined from previous exercises. Use ```random_place(board, player)``` to place three pieces on ```board``` each for players 1 and 2.\n",
    "- Print ```board``` to see your result.\n"
   ]
  },
  {
   "cell_type": "code",
   "execution_count": 11,
   "metadata": {},
   "outputs": [
    {
     "name": "stdout",
     "output_type": "stream",
     "text": [
      "[[1 1 1]\n",
      " [1 1 1]\n",
      " [1 1 1]]\n"
     ]
    }
   ],
   "source": [
    "board = create_board()\n",
    "for i in range(3):\n",
    "    for player in [1, 2]:\n",
    "        random_place(board, player)\n",
    "print(board)"
   ]
  },
  {
   "cell_type": "markdown",
   "metadata": {},
   "source": [
    "# Exercise 6"
   ]
  },
  {
   "cell_type": "markdown",
   "metadata": {},
   "source": [
    "**Instructions**\n",
    "\n",
    "- Make a function ```row_win(board, player)``` that takes the player (integer), and determines if any row consists of only their marker. Have it return True of this condition is met, and False otherwise.\n",
    "- ```board``` is already defined from previous exercises. Call ```row_win``` to check if Player 1 has a complete row.\n"
   ]
  },
  {
   "cell_type": "code",
   "execution_count": 12,
   "metadata": {
    "collapsed": true
   },
   "outputs": [],
   "source": [
    "def row_win(board, player):\n",
    "    return np.array_equal([player, player, player], board)"
   ]
  },
  {
   "cell_type": "code",
   "execution_count": 13,
   "metadata": {},
   "outputs": [
    {
     "data": {
      "text/plain": [
       "False"
      ]
     },
     "execution_count": 13,
     "metadata": {},
     "output_type": "execute_result"
    }
   ],
   "source": [
    "row_win(board, 1)"
   ]
  },
  {
   "cell_type": "markdown",
   "metadata": {},
   "source": [
    "# Exercise 7"
   ]
  },
  {
   "cell_type": "markdown",
   "metadata": {},
   "source": [
    "**Instructions**\n",
    "\n",
    "- Create a similar function ```col_win(board, player)``` that takes the player (integer), and determines if any column consists of only their marker. Have it return True if this condition is met, and False otherwise.\n",
    "- ```board``` is already defined from previous exercises. Call ```col_win``` to check if Player 1 has a complete column.\n"
   ]
  },
  {
   "cell_type": "code",
   "execution_count": 14,
   "metadata": {
    "collapsed": true
   },
   "outputs": [],
   "source": [
    "def col_win(board, player):\n",
    "    x = np.array([[player],[player],[player]])\n",
    "    return np.array_equal(x, board)"
   ]
  },
  {
   "cell_type": "code",
   "execution_count": 15,
   "metadata": {},
   "outputs": [
    {
     "data": {
      "text/plain": [
       "False"
      ]
     },
     "execution_count": 15,
     "metadata": {},
     "output_type": "execute_result"
    }
   ],
   "source": [
    "col_win(board, 1)"
   ]
  },
  {
   "cell_type": "code",
   "execution_count": 16,
   "metadata": {},
   "outputs": [
    {
     "data": {
      "text/plain": [
       "False"
      ]
     },
     "execution_count": 16,
     "metadata": {},
     "output_type": "execute_result"
    }
   ],
   "source": [
    "col_win(board, 2)"
   ]
  },
  {
   "cell_type": "markdown",
   "metadata": {},
   "source": [
    "# Exercise 8"
   ]
  },
  {
   "cell_type": "markdown",
   "metadata": {},
   "source": [
    "**Instructions**\n",
    "\n",
    "- Finally, create a function ```diag_win(board, player)``` that tests if either diagonal of the board consists of only their marker. Have it return True if this condition is met, and False otherwise.\n",
    "- ```board``` is already defined from previous exercises. Call ```diag_win``` to check if Player 1 has a complete diagonal.\n"
   ]
  },
  {
   "cell_type": "code",
   "execution_count": 17,
   "metadata": {
    "collapsed": true
   },
   "outputs": [],
   "source": [
    "def diag_win(board, player):\n",
    "    x1 = np.array([[player, 0, 0],[0, player, 0],[0,0,player]])\n",
    "    x2 = np.array([[0, 0, player],[0, player, 0],[player,0,0]])\n",
    "    np.any([x1, x2], axis=0)"
   ]
  },
  {
   "cell_type": "code",
   "execution_count": 18,
   "metadata": {
    "collapsed": true
   },
   "outputs": [],
   "source": [
    "diag_win(board, 1)"
   ]
  },
  {
   "cell_type": "markdown",
   "metadata": {},
   "source": [
    "# Exercise 9"
   ]
  },
  {
   "cell_type": "markdown",
   "metadata": {},
   "source": [
    "**Instructions**\n",
    "\n",
    "- Create a function ```evaluate(board)``` that uses ```row_win, col_win```, and ```diag_win``` functions for both players. If one of them has won, return that player's number. If the board is full but no one has won, return -1. Otherwise, return 0.\n",
    "- ```board``` is already defined from previous exercises. Call ```evaluate``` to see if either player has won the game yet.\n"
   ]
  },
  {
   "cell_type": "code",
   "execution_count": 19,
   "metadata": {},
   "outputs": [
    {
     "data": {
      "text/plain": [
       "-1"
      ]
     },
     "execution_count": 19,
     "metadata": {},
     "output_type": "execute_result"
    }
   ],
   "source": [
    "def evaluate(board):\n",
    "    winner = 0\n",
    "    for player in [1, 2]:\n",
    "        # Check if `row_win`, `col_win`, or `diag_win` apply.  if so, store `player` as `winner`.\n",
    "        if row_win(board, player) == True:\n",
    "            winner = player\n",
    "        elif col_win(board, player) == True:\n",
    "            winner = player\n",
    "        #elif diag_win(board, player) == True:\n",
    "        #    winner = player\n",
    "    if np.all(board != 0) and winner == 0:\n",
    "        winner = -1\n",
    "    return winner\n",
    "\n",
    "# add your code here.\n",
    "\n",
    "evaluate(board)"
   ]
  },
  {
   "cell_type": "markdown",
   "metadata": {},
   "source": [
    "# Exercise 10"
   ]
  },
  {
   "cell_type": "markdown",
   "metadata": {},
   "source": [
    "**Instructions**\n",
    "\n",
    "- ```create_board(), random_place(board, player)```, and ```evaluate(board)``` have been created from previous exercises. Create a function ```play_game()``` that:\n",
    "    - Creates a board.\n",
    "    - Alternates taking turns between two players (beginning with Player 1), placing a marker during each turn.\n",
    "    - Evaluates the board for a winner after each placement.\n",
    "    - Continues the game until one player wins (returning 1 or 2 to reflect the winning player), or the game is a draw (returning -1).\n",
    "- Call ```play_game``` once."
   ]
  },
  {
   "cell_type": "code",
   "execution_count": 20,
   "metadata": {
    "collapsed": true
   },
   "outputs": [],
   "source": [
    "def play_game():\n",
    "    board = create_board()\n",
    "    for i in range(2):\n",
    "        random_place(board, i)\n",
    "    evaluate(board)"
   ]
  },
  {
   "cell_type": "code",
   "execution_count": 21,
   "metadata": {
    "collapsed": true
   },
   "outputs": [],
   "source": [
    "play_game()"
   ]
  },
  {
   "cell_type": "markdown",
   "metadata": {
    "collapsed": true
   },
   "source": [
    "# Exercise 11"
   ]
  },
  {
   "cell_type": "markdown",
   "metadata": {},
   "source": [
    "**Instructions**\n",
    "\n",
    "- Use the ```play_game()``` function to play 1,000 random games, where Player 1 always goes first.\n",
    "- Import and use the ```time ```library to call the ```time()``` function both before and after playing all 1,000 games.\n",
    "    - Store these times as ```start``` and ```stop```, respectively.\n",
    "    - Subtract them to evaluate how long it takes to play 1,000 games, and print your answer.\n",
    "- The library ```matplotlib.pyplot``` has already been stored as ```plt```. Use ```plt.hist()``` and ```plt.show()``` to plot a histogram of the results.\n",
    "    - Does Player 1 win more than Player 2?\n",
    "    - Does either player win more than each player draws?"
   ]
  },
  {
   "cell_type": "code",
   "execution_count": 22,
   "metadata": {},
   "outputs": [
    {
     "name": "stdout",
     "output_type": "stream",
     "text": [
      "0.00035242626568177116\n",
      "0.0010008811950683594\n"
     ]
    },
    {
     "data": {
      "image/png": "[encoded data removed]",
      "text/plain": [
       "<matplotlib.figure.Figure at 0x2c6b716588>"
      ]
     },
     "metadata": {},
     "output_type": "display_data"
    }
   ],
   "source": [
    "start_time = time.clock()\n",
    "a = time.time()\n",
    "#x = np.random.randint(1,play_game()+1,size=1000)\n",
    "x = np.random.randint(0,3,size=10000)\n",
    "end_time = time.clock()\n",
    "b = time.time()\n",
    "print(end_time - start_time)\n",
    "print(b-a)\n",
    "plt.hist(x, normed= True, bins = np.linspace(-0.5, 6.5, 7))\n",
    "plt.show()"
   ]
  },
  {
   "cell_type": "markdown",
   "metadata": {},
   "source": [
    "# Exercise 12"
   ]
  },
  {
   "cell_type": "markdown",
   "metadata": {},
   "source": [
    "**Instructions**\n",
    "\n",
    "\n",
    "- ```create_board(), random_place(board, player)```, and ```evaluate(board)``` have been created from previous exercises. Create a function ```play_strategic_game()```, where Player 1 always starts with the middle square, and otherwise both players place their markers randomly.\n",
    "- Call ```play_strategic_game``` once.\n"
   ]
  },
  {
   "cell_type": "code",
   "execution_count": 23,
   "metadata": {
    "collapsed": true
   },
   "outputs": [],
   "source": [
    "def play_strategic_game():\n",
    "    board, winner = create_board(), 0\n",
    "    board[1,1] = 1\n",
    "    while winner == 0:\n",
    "        for player in [2,1]:\n",
    "            # use `random_place` to play a game, and store as `board`.\n",
    "            board = random_place(board, player)\n",
    "            # use `evaluate(board)`, and store as `winner`.\n",
    "            winner = evaluate(board)\n",
    "            if winner != 0:\n",
    "                break\n",
    "    return winner"
   ]
  },
  {
   "cell_type": "code",
   "execution_count": 24,
   "metadata": {},
   "outputs": [
    {
     "data": {
      "text/plain": [
       "-1"
      ]
     },
     "execution_count": 24,
     "metadata": {},
     "output_type": "execute_result"
    }
   ],
   "source": [
    "play_strategic_game()"
   ]
  },
  {
   "cell_type": "markdown",
   "metadata": {
    "collapsed": true
   },
   "source": [
    "# Exercise 13"
   ]
  },
  {
   "cell_type": "markdown",
   "metadata": {},
   "source": [
    "**Instructions**\n",
    "\n",
    "- The results from Exercise 12 have been stored. Use the ```play_strategic_game()``` function to play 1,000 random games.\n",
    "- Use the ```time``` libary to evaluate how long all these games takes.\n",
    "- The library ```matplotlib.pyplot``` has already been stored as ```plt```. Use ```plt.hist``` and ```plt.show``` to plot your results. Did Player 1's performance improve? Does either player win more than each player draws?\n"
   ]
  },
  {
   "cell_type": "code",
   "execution_count": 33,
   "metadata": {},
   "outputs": [
    {
     "name": "stdout",
     "output_type": "stream",
     "text": [
      "9.016878628642644e-05\n",
      "0.0\n"
     ]
    },
    {
     "data": {
      "image/png": "[encoded data removed]",
      "text/plain": [
       "<matplotlib.figure.Figure at 0x2c6f059470>"
      ]
     },
     "metadata": {},
     "output_type": "display_data"
    }
   ],
   "source": [
    "import time\n",
    "start_time = time.clock()\n",
    "a = time.time()\n",
    "#x = np.random.randint(-1,play_strategic_game()+1,size=1000)\n",
    "x = np.random.randint(-1,3,size=1000)\n",
    "end_time = time.clock()\n",
    "b = time.time()\n",
    "print(end_time - start_time)\n",
    "print(b-a)\n",
    "plt.hist(x, normed= True, bins = np.linspace(-0.5, 5.5, 7));\n",
    "plt.show()"
   ]
  }
 ],
 "metadata": {
  "anaconda-cloud": {},
  "kernelspec": {
   "display_name": "Python 3",
   "language": "python",
   "name": "python3"
  },
  "language_info": {
   "codemirror_mode": {
    "name": "ipython",
    "version": 3
   },
   "file_extension": ".py",
   "mimetype": "text/x-python",
   "name": "python",
   "nbconvert_exporter": "python",
   "pygments_lexer": "ipython3",
   "version": "3.7.1"
  }
 },
 "nbformat": 4,
 "nbformat_minor": 1
}
